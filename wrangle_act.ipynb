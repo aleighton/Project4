{
 "cells": [
  {
   "cell_type": "markdown",
   "metadata": {},
   "source": [
    "## Wrangle and Analyse Data"
   ]
  },
  {
   "cell_type": "code",
   "execution_count": 390,
   "metadata": {
    "collapsed": true
   },
   "outputs": [],
   "source": [
    "#import packages\n",
    "import pandas as pd \n",
    "import numpy as np \n",
    "import seaborn as sns \n",
    "import matplotlib.pyplot as plt \n",
    "import tweepy as tw \n",
    "import requests \n",
    "import json\n",
    "import re\n",
    "import os \n",
    "\n",
    "#API key variables stored in separate file \n",
    "%run twitter_keys"
   ]
  },
  {
   "cell_type": "markdown",
   "metadata": {},
   "source": [
    "## Gathering\n",
    "\n",
    "1. Supplied twitter_enhanced dataset must be loaded from file \n",
    "2. Image_prediction dataset must be scraped from Udacity website \n",
    "3. Archive tweet data must be queried through twitter API \n",
    "   - As we'll be using the tweet_id from the supplied twitter_enhanced dataset, the tweet_id column must first cleaned  before we gather more data to avoid any duplicates, reweets and responses to other tweets, this step will reduce the collection time associated with use of the API as well as avoid duplicates in the third dataset"
   ]
  },
  {
   "cell_type": "code",
   "execution_count": 391,
   "metadata": {
    "collapsed": true
   },
   "outputs": [],
   "source": [
    "#load supplied twitter data - csv format \n",
    "twitter_enhanced = pd.read_csv('twitter-archive-enhanced.csv')"
   ]
  },
  {
   "cell_type": "code",
   "execution_count": 392,
   "metadata": {},
   "outputs": [
    {
     "name": "stdout",
     "output_type": "stream",
     "text": [
      "<class 'pandas.core.frame.DataFrame'>\n",
      "RangeIndex: 2356 entries, 0 to 2355\n",
      "Data columns (total 17 columns):\n",
      "tweet_id                      2356 non-null int64\n",
      "in_reply_to_status_id         78 non-null float64\n",
      "in_reply_to_user_id           78 non-null float64\n",
      "timestamp                     2356 non-null object\n",
      "source                        2356 non-null object\n",
      "text                          2356 non-null object\n",
      "retweeted_status_id           181 non-null float64\n",
      "retweeted_status_user_id      181 non-null float64\n",
      "retweeted_status_timestamp    181 non-null object\n",
      "expanded_urls                 2297 non-null object\n",
      "rating_numerator              2356 non-null int64\n",
      "rating_denominator            2356 non-null int64\n",
      "name                          2356 non-null object\n",
      "doggo                         2356 non-null object\n",
      "floofer                       2356 non-null object\n",
      "pupper                        2356 non-null object\n",
      "puppo                         2356 non-null object\n",
      "dtypes: float64(4), int64(3), object(10)\n",
      "memory usage: 313.0+ KB\n"
     ]
    }
   ],
   "source": [
    "twitter_enhanced.head(4)\n",
    "twitter_enhanced.info()"
   ]
  },
  {
   "cell_type": "code",
   "execution_count": 393,
   "metadata": {},
   "outputs": [
    {
     "data": {
      "text/plain": [
       "0"
      ]
     },
     "execution_count": 393,
     "metadata": {},
     "output_type": "execute_result"
    }
   ],
   "source": [
    "# check for duplicate tweet_ids\n",
    "twitter_enhanced[twitter_enhanced.tweet_id.duplicated() == True].tweet_id.count()"
   ]
  },
  {
   "cell_type": "code",
   "execution_count": 394,
   "metadata": {},
   "outputs": [
    {
     "data": {
      "text/html": [
       "<div>\n",
       "<style scoped>\n",
       "    .dataframe tbody tr th:only-of-type {\n",
       "        vertical-align: middle;\n",
       "    }\n",
       "\n",
       "    .dataframe tbody tr th {\n",
       "        vertical-align: top;\n",
       "    }\n",
       "\n",
       "    .dataframe thead th {\n",
       "        text-align: right;\n",
       "    }\n",
       "</style>\n",
       "<table border=\"1\" class=\"dataframe\">\n",
       "  <thead>\n",
       "    <tr style=\"text-align: right;\">\n",
       "      <th></th>\n",
       "      <th>tweet_id</th>\n",
       "      <th>in_reply_to_status_id</th>\n",
       "      <th>in_reply_to_user_id</th>\n",
       "      <th>timestamp</th>\n",
       "      <th>source</th>\n",
       "      <th>text</th>\n",
       "      <th>retweeted_status_id</th>\n",
       "      <th>retweeted_status_user_id</th>\n",
       "      <th>retweeted_status_timestamp</th>\n",
       "      <th>expanded_urls</th>\n",
       "      <th>rating_numerator</th>\n",
       "      <th>rating_denominator</th>\n",
       "      <th>name</th>\n",
       "      <th>doggo</th>\n",
       "      <th>floofer</th>\n",
       "      <th>pupper</th>\n",
       "      <th>puppo</th>\n",
       "    </tr>\n",
       "  </thead>\n",
       "  <tbody>\n",
       "    <tr>\n",
       "      <th>19</th>\n",
       "      <td>888202515573088257</td>\n",
       "      <td>NaN</td>\n",
       "      <td>NaN</td>\n",
       "      <td>2017-07-21 01:02:36 +0000</td>\n",
       "      <td>&lt;a href=\"http://twitter.com/download/iphone\" r...</td>\n",
       "      <td>RT @dog_rates: This is Canela. She attempted s...</td>\n",
       "      <td>8.874740e+17</td>\n",
       "      <td>4.196984e+09</td>\n",
       "      <td>2017-07-19 00:47:34 +0000</td>\n",
       "      <td>https://twitter.com/dog_rates/status/887473957...</td>\n",
       "      <td>13</td>\n",
       "      <td>10</td>\n",
       "      <td>Canela</td>\n",
       "      <td>None</td>\n",
       "      <td>None</td>\n",
       "      <td>None</td>\n",
       "      <td>None</td>\n",
       "    </tr>\n",
       "    <tr>\n",
       "      <th>32</th>\n",
       "      <td>886054160059072513</td>\n",
       "      <td>NaN</td>\n",
       "      <td>NaN</td>\n",
       "      <td>2017-07-15 02:45:48 +0000</td>\n",
       "      <td>&lt;a href=\"http://twitter.com/download/iphone\" r...</td>\n",
       "      <td>RT @Athletics: 12/10 #BATP https://t.co/WxwJmv...</td>\n",
       "      <td>8.860537e+17</td>\n",
       "      <td>1.960740e+07</td>\n",
       "      <td>2017-07-15 02:44:07 +0000</td>\n",
       "      <td>https://twitter.com/dog_rates/status/886053434...</td>\n",
       "      <td>12</td>\n",
       "      <td>10</td>\n",
       "      <td>None</td>\n",
       "      <td>None</td>\n",
       "      <td>None</td>\n",
       "      <td>None</td>\n",
       "      <td>None</td>\n",
       "    </tr>\n",
       "    <tr>\n",
       "      <th>36</th>\n",
       "      <td>885311592912609280</td>\n",
       "      <td>NaN</td>\n",
       "      <td>NaN</td>\n",
       "      <td>2017-07-13 01:35:06 +0000</td>\n",
       "      <td>&lt;a href=\"http://twitter.com/download/iphone\" r...</td>\n",
       "      <td>RT @dog_rates: This is Lilly. She just paralle...</td>\n",
       "      <td>8.305833e+17</td>\n",
       "      <td>4.196984e+09</td>\n",
       "      <td>2017-02-12 01:04:29 +0000</td>\n",
       "      <td>https://twitter.com/dog_rates/status/830583320...</td>\n",
       "      <td>13</td>\n",
       "      <td>10</td>\n",
       "      <td>Lilly</td>\n",
       "      <td>None</td>\n",
       "      <td>None</td>\n",
       "      <td>None</td>\n",
       "      <td>None</td>\n",
       "    </tr>\n",
       "    <tr>\n",
       "      <th>68</th>\n",
       "      <td>879130579576475649</td>\n",
       "      <td>NaN</td>\n",
       "      <td>NaN</td>\n",
       "      <td>2017-06-26 00:13:58 +0000</td>\n",
       "      <td>&lt;a href=\"http://twitter.com/download/iphone\" r...</td>\n",
       "      <td>RT @dog_rates: This is Emmy. She was adopted t...</td>\n",
       "      <td>8.780576e+17</td>\n",
       "      <td>4.196984e+09</td>\n",
       "      <td>2017-06-23 01:10:23 +0000</td>\n",
       "      <td>https://twitter.com/dog_rates/status/878057613...</td>\n",
       "      <td>14</td>\n",
       "      <td>10</td>\n",
       "      <td>Emmy</td>\n",
       "      <td>None</td>\n",
       "      <td>None</td>\n",
       "      <td>None</td>\n",
       "      <td>None</td>\n",
       "    </tr>\n",
       "    <tr>\n",
       "      <th>73</th>\n",
       "      <td>878404777348136964</td>\n",
       "      <td>NaN</td>\n",
       "      <td>NaN</td>\n",
       "      <td>2017-06-24 00:09:53 +0000</td>\n",
       "      <td>&lt;a href=\"http://twitter.com/download/iphone\" r...</td>\n",
       "      <td>RT @dog_rates: Meet Shadow. In an attempt to r...</td>\n",
       "      <td>8.782815e+17</td>\n",
       "      <td>4.196984e+09</td>\n",
       "      <td>2017-06-23 16:00:04 +0000</td>\n",
       "      <td>https://www.gofundme.com/3yd6y1c,https://twitt...</td>\n",
       "      <td>13</td>\n",
       "      <td>10</td>\n",
       "      <td>Shadow</td>\n",
       "      <td>None</td>\n",
       "      <td>None</td>\n",
       "      <td>None</td>\n",
       "      <td>None</td>\n",
       "    </tr>\n",
       "  </tbody>\n",
       "</table>\n",
       "</div>"
      ],
      "text/plain": [
       "              tweet_id  in_reply_to_status_id  in_reply_to_user_id  \\\n",
       "19  888202515573088257                    NaN                  NaN   \n",
       "32  886054160059072513                    NaN                  NaN   \n",
       "36  885311592912609280                    NaN                  NaN   \n",
       "68  879130579576475649                    NaN                  NaN   \n",
       "73  878404777348136964                    NaN                  NaN   \n",
       "\n",
       "                    timestamp  \\\n",
       "19  2017-07-21 01:02:36 +0000   \n",
       "32  2017-07-15 02:45:48 +0000   \n",
       "36  2017-07-13 01:35:06 +0000   \n",
       "68  2017-06-26 00:13:58 +0000   \n",
       "73  2017-06-24 00:09:53 +0000   \n",
       "\n",
       "                                               source  \\\n",
       "19  <a href=\"http://twitter.com/download/iphone\" r...   \n",
       "32  <a href=\"http://twitter.com/download/iphone\" r...   \n",
       "36  <a href=\"http://twitter.com/download/iphone\" r...   \n",
       "68  <a href=\"http://twitter.com/download/iphone\" r...   \n",
       "73  <a href=\"http://twitter.com/download/iphone\" r...   \n",
       "\n",
       "                                                 text  retweeted_status_id  \\\n",
       "19  RT @dog_rates: This is Canela. She attempted s...         8.874740e+17   \n",
       "32  RT @Athletics: 12/10 #BATP https://t.co/WxwJmv...         8.860537e+17   \n",
       "36  RT @dog_rates: This is Lilly. She just paralle...         8.305833e+17   \n",
       "68  RT @dog_rates: This is Emmy. She was adopted t...         8.780576e+17   \n",
       "73  RT @dog_rates: Meet Shadow. In an attempt to r...         8.782815e+17   \n",
       "\n",
       "    retweeted_status_user_id retweeted_status_timestamp  \\\n",
       "19              4.196984e+09  2017-07-19 00:47:34 +0000   \n",
       "32              1.960740e+07  2017-07-15 02:44:07 +0000   \n",
       "36              4.196984e+09  2017-02-12 01:04:29 +0000   \n",
       "68              4.196984e+09  2017-06-23 01:10:23 +0000   \n",
       "73              4.196984e+09  2017-06-23 16:00:04 +0000   \n",
       "\n",
       "                                        expanded_urls  rating_numerator  \\\n",
       "19  https://twitter.com/dog_rates/status/887473957...                13   \n",
       "32  https://twitter.com/dog_rates/status/886053434...                12   \n",
       "36  https://twitter.com/dog_rates/status/830583320...                13   \n",
       "68  https://twitter.com/dog_rates/status/878057613...                14   \n",
       "73  https://www.gofundme.com/3yd6y1c,https://twitt...                13   \n",
       "\n",
       "    rating_denominator    name doggo floofer pupper puppo  \n",
       "19                  10  Canela  None    None   None  None  \n",
       "32                  10    None  None    None   None  None  \n",
       "36                  10   Lilly  None    None   None  None  \n",
       "68                  10    Emmy  None    None   None  None  \n",
       "73                  10  Shadow  None    None   None  None  "
      ]
     },
     "execution_count": 394,
     "metadata": {},
     "output_type": "execute_result"
    }
   ],
   "source": [
    "#check for retweets\n",
    "retweets = twitter_enhanced[twitter_enhanced.retweeted_status_id.isnull() == False]\n",
    "retweets.head()"
   ]
  },
  {
   "cell_type": "code",
   "execution_count": 395,
   "metadata": {},
   "outputs": [
    {
     "name": "stdout",
     "output_type": "stream",
     "text": [
      "<class 'pandas.core.frame.DataFrame'>\n",
      "Int64Index: 2175 entries, 0 to 2355\n",
      "Data columns (total 17 columns):\n",
      "tweet_id                      2175 non-null int64\n",
      "in_reply_to_status_id         78 non-null float64\n",
      "in_reply_to_user_id           78 non-null float64\n",
      "timestamp                     2175 non-null object\n",
      "source                        2175 non-null object\n",
      "text                          2175 non-null object\n",
      "retweeted_status_id           0 non-null float64\n",
      "retweeted_status_user_id      0 non-null float64\n",
      "retweeted_status_timestamp    0 non-null object\n",
      "expanded_urls                 2117 non-null object\n",
      "rating_numerator              2175 non-null int64\n",
      "rating_denominator            2175 non-null int64\n",
      "name                          2175 non-null object\n",
      "doggo                         2175 non-null object\n",
      "floofer                       2175 non-null object\n",
      "pupper                        2175 non-null object\n",
      "puppo                         2175 non-null object\n",
      "dtypes: float64(4), int64(3), object(10)\n",
      "memory usage: 305.9+ KB\n"
     ]
    }
   ],
   "source": [
    "#remove retweets\n",
    "twitter_enhanced = twitter_enhanced[twitter_enhanced.retweeted_status_id.isnull()]\n",
    "twitter_enhanced.info()"
   ]
  },
  {
   "cell_type": "code",
   "execution_count": 396,
   "metadata": {},
   "outputs": [
    {
     "name": "stdout",
     "output_type": "stream",
     "text": [
      "<class 'pandas.core.frame.DataFrame'>\n",
      "Int64Index: 2097 entries, 0 to 2355\n",
      "Data columns (total 17 columns):\n",
      "tweet_id                      2097 non-null int64\n",
      "in_reply_to_status_id         0 non-null float64\n",
      "in_reply_to_user_id           0 non-null float64\n",
      "timestamp                     2097 non-null object\n",
      "source                        2097 non-null object\n",
      "text                          2097 non-null object\n",
      "retweeted_status_id           0 non-null float64\n",
      "retweeted_status_user_id      0 non-null float64\n",
      "retweeted_status_timestamp    0 non-null object\n",
      "expanded_urls                 2094 non-null object\n",
      "rating_numerator              2097 non-null int64\n",
      "rating_denominator            2097 non-null int64\n",
      "name                          2097 non-null object\n",
      "doggo                         2097 non-null object\n",
      "floofer                       2097 non-null object\n",
      "pupper                        2097 non-null object\n",
      "puppo                         2097 non-null object\n",
      "dtypes: float64(4), int64(3), object(10)\n",
      "memory usage: 294.9+ KB\n"
     ]
    }
   ],
   "source": [
    "#remove reply tweets\n",
    "twitter_enhanced = twitter_enhanced[twitter_enhanced.in_reply_to_status_id.isnull()]\n",
    "twitter_enhanced.info()"
   ]
  },
  {
   "cell_type": "code",
   "execution_count": 397,
   "metadata": {
    "collapsed": true
   },
   "outputs": [],
   "source": [
    "#Instantiate tweepy object \n",
    "#key variables are declared in private python file, imported as twitter_keys\n",
    "auth = tw.OAuthHandler(api_key, api_secret)\n",
    "auth.set_access_token(access_token, access_secret)\n",
    "api = tw.API(auth, parser=tw.parsers.JSONParser())"
   ]
  },
  {
   "cell_type": "code",
   "execution_count": 154,
   "metadata": {},
   "outputs": [
    {
     "name": "stdout",
     "output_type": "stream",
     "text": [
      "[{'code': 144, 'message': 'No status found with that ID.'}]872261713294495745\n",
      "[{'code': 144, 'message': 'No status found with that ID.'}]844704788403113984\n",
      "[{'code': 144, 'message': 'No status found with that ID.'}]837366284874571778\n",
      "[{'code': 144, 'message': 'No status found with that ID.'}]829374341691346946\n"
     ]
    },
    {
     "name": "stderr",
     "output_type": "stream",
     "text": [
      "Rate limit reached. Sleeping for: 155\n"
     ]
    },
    {
     "name": "stdout",
     "output_type": "stream",
     "text": [
      "[{'code': 144, 'message': 'No status found with that ID.'}]779123168116150273\n",
      "[{'code': 144, 'message': 'No status found with that ID.'}]754011816964026368\n"
     ]
    },
    {
     "name": "stderr",
     "output_type": "stream",
     "text": [
      "Rate limit reached. Sleeping for: 297\n"
     ]
    },
    {
     "name": "stdout",
     "output_type": "stream",
     "text": [
      "[{'code': 144, 'message': 'No status found with that ID.'}]680055455951884288\n"
     ]
    }
   ],
   "source": [
    "#query API for tweet data \n",
    "#store only the data needed\n",
    "tweet_data = []\n",
    "exceptions = []\n",
    "i = 0\n",
    "for tweet_id in twitter_enhanced['tweet_id']:\n",
    "    try:\n",
    "        tweet = api.get_status(tweet_id, tweet_mode='extended',\n",
    "                               wait_on_rate_limit = True,\n",
    "                               wait_on_rate_limit_notify = True)\n",
    "        date = tweet['created_at']\n",
    "        favourites = tweet['favorite_count']\n",
    "        retweets = tweet['retweet_count']\n",
    "        tweet_data.append({'tweet_id':int(tweet_id),\n",
    "                           'creation_date':pd.to_datetime(date),\n",
    "                           'favourites':int(favourites),\n",
    "                           'retweets':int(retweets)})\n",
    "    except Exception as e:\n",
    "        print(str(e) + str(tweet_id))\n",
    "        exceptions.append(tweet_id)"
   ]
  },
  {
   "cell_type": "code",
   "execution_count": 398,
   "metadata": {
    "collapsed": true
   },
   "outputs": [],
   "source": [
    "# Create dataframe and store result as csv file\n",
    "tweets = pd.DataFrame(tweet_data)\n",
    "tweets.to_json('tweet_json.txt', orient='columns')"
   ]
  },
  {
   "cell_type": "code",
   "execution_count": 399,
   "metadata": {},
   "outputs": [
    {
     "data": {
      "text/html": [
       "<div>\n",
       "<style scoped>\n",
       "    .dataframe tbody tr th:only-of-type {\n",
       "        vertical-align: middle;\n",
       "    }\n",
       "\n",
       "    .dataframe tbody tr th {\n",
       "        vertical-align: top;\n",
       "    }\n",
       "\n",
       "    .dataframe thead th {\n",
       "        text-align: right;\n",
       "    }\n",
       "</style>\n",
       "<table border=\"1\" class=\"dataframe\">\n",
       "  <thead>\n",
       "    <tr style=\"text-align: right;\">\n",
       "      <th></th>\n",
       "      <th>creation_date</th>\n",
       "      <th>favourites</th>\n",
       "      <th>retweets</th>\n",
       "      <th>tweet_id</th>\n",
       "    </tr>\n",
       "  </thead>\n",
       "  <tbody>\n",
       "    <tr>\n",
       "      <th>0</th>\n",
       "      <td>2017-08-01 16:23:56</td>\n",
       "      <td>36398</td>\n",
       "      <td>7741</td>\n",
       "      <td>892420643555336193</td>\n",
       "    </tr>\n",
       "    <tr>\n",
       "      <th>1</th>\n",
       "      <td>2017-08-01 00:17:27</td>\n",
       "      <td>31348</td>\n",
       "      <td>5735</td>\n",
       "      <td>892177421306343426</td>\n",
       "    </tr>\n",
       "    <tr>\n",
       "      <th>2</th>\n",
       "      <td>2017-07-26 00:31:25</td>\n",
       "      <td>28900</td>\n",
       "      <td>6729</td>\n",
       "      <td>890006608113172480</td>\n",
       "    </tr>\n",
       "    <tr>\n",
       "      <th>3</th>\n",
       "      <td>2017-05-31 23:43:25</td>\n",
       "      <td>34798</td>\n",
       "      <td>7753</td>\n",
       "      <td>870063196459192321</td>\n",
       "    </tr>\n",
       "    <tr>\n",
       "      <th>4</th>\n",
       "      <td>2016-03-28 00:43:43</td>\n",
       "      <td>3280</td>\n",
       "      <td>829</td>\n",
       "      <td>714251586676113411</td>\n",
       "    </tr>\n",
       "  </tbody>\n",
       "</table>\n",
       "</div>"
      ],
      "text/plain": [
       "        creation_date  favourites  retweets            tweet_id\n",
       "0 2017-08-01 16:23:56       36398      7741  892420643555336193\n",
       "1 2017-08-01 00:17:27       31348      5735  892177421306343426\n",
       "2 2017-07-26 00:31:25       28900      6729  890006608113172480\n",
       "3 2017-05-31 23:43:25       34798      7753  870063196459192321\n",
       "4 2016-03-28 00:43:43        3280       829  714251586676113411"
      ]
     },
     "execution_count": 399,
     "metadata": {},
     "output_type": "execute_result"
    }
   ],
   "source": [
    "#json file seems to be saving datetime as epoch time in milliseconds\n",
    "tweets = pd.read_json('tweet_json.txt')\n",
    "tweets.creation_date = pd.to_datetime(tweets.creation_date, unit='ms')\n",
    "tweets.reset_index(drop=True, inplace=True)\n",
    "tweets.head()"
   ]
  },
  {
   "cell_type": "code",
   "execution_count": 400,
   "metadata": {},
   "outputs": [
    {
     "data": {
      "text/plain": [
       "0"
      ]
     },
     "execution_count": 400,
     "metadata": {},
     "output_type": "execute_result"
    }
   ],
   "source": [
    "tweets[tweets.tweet_id.duplicated() == True].tweet_id.count()"
   ]
  },
  {
   "cell_type": "code",
   "execution_count": 425,
   "metadata": {
    "collapsed": true
   },
   "outputs": [],
   "source": [
    "#scrape image_predictions.tsv file from Udacity site \n",
    "url = \"https://d17h27t6h515a5.cloudfront.net/topher/2017/August/599fd2ad_image-predictions/image-predictions.tsv\"\n",
    "response = requests.get(url)\n",
    "\n",
    "#write to file \n",
    "with open(os.path.join('image_predictions.tsv'), mode = 'wb') as file:\n",
    "    file.write(response.content)"
   ]
  },
  {
   "cell_type": "code",
   "execution_count": 426,
   "metadata": {
    "collapsed": true
   },
   "outputs": [],
   "source": [
    "#load image_predictions - tsv format \n",
    "image_predictions = pd.read_csv('image_predictions.tsv', sep='\\t')"
   ]
  },
  {
   "cell_type": "code",
   "execution_count": 427,
   "metadata": {},
   "outputs": [
    {
     "data": {
      "text/html": [
       "<div>\n",
       "<style scoped>\n",
       "    .dataframe tbody tr th:only-of-type {\n",
       "        vertical-align: middle;\n",
       "    }\n",
       "\n",
       "    .dataframe tbody tr th {\n",
       "        vertical-align: top;\n",
       "    }\n",
       "\n",
       "    .dataframe thead th {\n",
       "        text-align: right;\n",
       "    }\n",
       "</style>\n",
       "<table border=\"1\" class=\"dataframe\">\n",
       "  <thead>\n",
       "    <tr style=\"text-align: right;\">\n",
       "      <th></th>\n",
       "      <th>tweet_id</th>\n",
       "      <th>jpg_url</th>\n",
       "      <th>img_num</th>\n",
       "      <th>p1</th>\n",
       "      <th>p1_conf</th>\n",
       "      <th>p1_dog</th>\n",
       "      <th>p2</th>\n",
       "      <th>p2_conf</th>\n",
       "      <th>p2_dog</th>\n",
       "      <th>p3</th>\n",
       "      <th>p3_conf</th>\n",
       "      <th>p3_dog</th>\n",
       "    </tr>\n",
       "  </thead>\n",
       "  <tbody>\n",
       "    <tr>\n",
       "      <th>0</th>\n",
       "      <td>666020888022790149</td>\n",
       "      <td>https://pbs.twimg.com/media/CT4udn0WwAA0aMy.jpg</td>\n",
       "      <td>1</td>\n",
       "      <td>Welsh_springer_spaniel</td>\n",
       "      <td>0.465074</td>\n",
       "      <td>True</td>\n",
       "      <td>collie</td>\n",
       "      <td>0.156665</td>\n",
       "      <td>True</td>\n",
       "      <td>Shetland_sheepdog</td>\n",
       "      <td>0.061428</td>\n",
       "      <td>True</td>\n",
       "    </tr>\n",
       "  </tbody>\n",
       "</table>\n",
       "</div>"
      ],
      "text/plain": [
       "             tweet_id                                          jpg_url  \\\n",
       "0  666020888022790149  https://pbs.twimg.com/media/CT4udn0WwAA0aMy.jpg   \n",
       "\n",
       "   img_num                      p1   p1_conf  p1_dog      p2   p2_conf  \\\n",
       "0        1  Welsh_springer_spaniel  0.465074    True  collie  0.156665   \n",
       "\n",
       "   p2_dog                 p3   p3_conf  p3_dog  \n",
       "0    True  Shetland_sheepdog  0.061428    True  "
      ]
     },
     "execution_count": 427,
     "metadata": {},
     "output_type": "execute_result"
    }
   ],
   "source": [
    "image_predictions.head(1)"
   ]
  },
  {
   "cell_type": "code",
   "execution_count": 428,
   "metadata": {},
   "outputs": [
    {
     "data": {
      "text/html": [
       "<div>\n",
       "<style scoped>\n",
       "    .dataframe tbody tr th:only-of-type {\n",
       "        vertical-align: middle;\n",
       "    }\n",
       "\n",
       "    .dataframe tbody tr th {\n",
       "        vertical-align: top;\n",
       "    }\n",
       "\n",
       "    .dataframe thead th {\n",
       "        text-align: right;\n",
       "    }\n",
       "</style>\n",
       "<table border=\"1\" class=\"dataframe\">\n",
       "  <thead>\n",
       "    <tr style=\"text-align: right;\">\n",
       "      <th></th>\n",
       "      <th>tweet_id</th>\n",
       "      <th>in_reply_to_status_id</th>\n",
       "      <th>in_reply_to_user_id</th>\n",
       "      <th>retweeted_status_id</th>\n",
       "      <th>retweeted_status_user_id</th>\n",
       "      <th>rating_numerator</th>\n",
       "      <th>rating_denominator</th>\n",
       "    </tr>\n",
       "  </thead>\n",
       "  <tbody>\n",
       "    <tr>\n",
       "      <th>count</th>\n",
       "      <td>2.097000e+03</td>\n",
       "      <td>0.0</td>\n",
       "      <td>0.0</td>\n",
       "      <td>0.0</td>\n",
       "      <td>0.0</td>\n",
       "      <td>2097.000000</td>\n",
       "      <td>2097.000000</td>\n",
       "    </tr>\n",
       "    <tr>\n",
       "      <th>mean</th>\n",
       "      <td>7.365594e+17</td>\n",
       "      <td>NaN</td>\n",
       "      <td>NaN</td>\n",
       "      <td>NaN</td>\n",
       "      <td>NaN</td>\n",
       "      <td>12.189318</td>\n",
       "      <td>10.448736</td>\n",
       "    </tr>\n",
       "    <tr>\n",
       "      <th>std</th>\n",
       "      <td>6.710178e+16</td>\n",
       "      <td>NaN</td>\n",
       "      <td>NaN</td>\n",
       "      <td>NaN</td>\n",
       "      <td>NaN</td>\n",
       "      <td>40.364996</td>\n",
       "      <td>6.645061</td>\n",
       "    </tr>\n",
       "    <tr>\n",
       "      <th>min</th>\n",
       "      <td>6.660209e+17</td>\n",
       "      <td>NaN</td>\n",
       "      <td>NaN</td>\n",
       "      <td>NaN</td>\n",
       "      <td>NaN</td>\n",
       "      <td>0.000000</td>\n",
       "      <td>2.000000</td>\n",
       "    </tr>\n",
       "    <tr>\n",
       "      <th>25%</th>\n",
       "      <td>6.768197e+17</td>\n",
       "      <td>NaN</td>\n",
       "      <td>NaN</td>\n",
       "      <td>NaN</td>\n",
       "      <td>NaN</td>\n",
       "      <td>10.000000</td>\n",
       "      <td>10.000000</td>\n",
       "    </tr>\n",
       "    <tr>\n",
       "      <th>50%</th>\n",
       "      <td>7.098528e+17</td>\n",
       "      <td>NaN</td>\n",
       "      <td>NaN</td>\n",
       "      <td>NaN</td>\n",
       "      <td>NaN</td>\n",
       "      <td>11.000000</td>\n",
       "      <td>10.000000</td>\n",
       "    </tr>\n",
       "    <tr>\n",
       "      <th>75%</th>\n",
       "      <td>7.877176e+17</td>\n",
       "      <td>NaN</td>\n",
       "      <td>NaN</td>\n",
       "      <td>NaN</td>\n",
       "      <td>NaN</td>\n",
       "      <td>12.000000</td>\n",
       "      <td>10.000000</td>\n",
       "    </tr>\n",
       "    <tr>\n",
       "      <th>max</th>\n",
       "      <td>8.924206e+17</td>\n",
       "      <td>NaN</td>\n",
       "      <td>NaN</td>\n",
       "      <td>NaN</td>\n",
       "      <td>NaN</td>\n",
       "      <td>1776.000000</td>\n",
       "      <td>170.000000</td>\n",
       "    </tr>\n",
       "  </tbody>\n",
       "</table>\n",
       "</div>"
      ],
      "text/plain": [
       "           tweet_id  in_reply_to_status_id  in_reply_to_user_id  \\\n",
       "count  2.097000e+03                    0.0                  0.0   \n",
       "mean   7.365594e+17                    NaN                  NaN   \n",
       "std    6.710178e+16                    NaN                  NaN   \n",
       "min    6.660209e+17                    NaN                  NaN   \n",
       "25%    6.768197e+17                    NaN                  NaN   \n",
       "50%    7.098528e+17                    NaN                  NaN   \n",
       "75%    7.877176e+17                    NaN                  NaN   \n",
       "max    8.924206e+17                    NaN                  NaN   \n",
       "\n",
       "       retweeted_status_id  retweeted_status_user_id  rating_numerator  \\\n",
       "count                  0.0                       0.0       2097.000000   \n",
       "mean                   NaN                       NaN         12.189318   \n",
       "std                    NaN                       NaN         40.364996   \n",
       "min                    NaN                       NaN          0.000000   \n",
       "25%                    NaN                       NaN         10.000000   \n",
       "50%                    NaN                       NaN         11.000000   \n",
       "75%                    NaN                       NaN         12.000000   \n",
       "max                    NaN                       NaN       1776.000000   \n",
       "\n",
       "       rating_denominator  \n",
       "count         2097.000000  \n",
       "mean            10.448736  \n",
       "std              6.645061  \n",
       "min              2.000000  \n",
       "25%             10.000000  \n",
       "50%             10.000000  \n",
       "75%             10.000000  \n",
       "max            170.000000  "
      ]
     },
     "execution_count": 428,
     "metadata": {},
     "output_type": "execute_result"
    }
   ],
   "source": [
    "twitter_enhanced.describe()"
   ]
  },
  {
   "cell_type": "code",
   "execution_count": 429,
   "metadata": {},
   "outputs": [
    {
     "data": {
      "text/plain": [
       "None         603\n",
       "a             55\n",
       "Lucy          11\n",
       "Charlie       11\n",
       "Cooper        10\n",
       "Oliver        10\n",
       "Penny          9\n",
       "Tucker         9\n",
       "Lola           8\n",
       "Sadie          8\n",
       "the            8\n",
       "Winston        8\n",
       "Toby           7\n",
       "Daisy          7\n",
       "Oscar          6\n",
       "Bo             6\n",
       "Bella          6\n",
       "Jax            6\n",
       "Bailey         6\n",
       "Stanley        6\n",
       "an             6\n",
       "Koda           6\n",
       "Leo            5\n",
       "Rusty          5\n",
       "Bentley        5\n",
       "Chester        5\n",
       "Dave           5\n",
       "Milo           5\n",
       "Buddy          5\n",
       "Scout          5\n",
       "            ... \n",
       "Eevee          1\n",
       "Bobble         1\n",
       "Willy          1\n",
       "Kellogg        1\n",
       "Alexander      1\n",
       "Sundance       1\n",
       "Storkson       1\n",
       "Obi            1\n",
       "Timison        1\n",
       "Murphy         1\n",
       "Yoda           1\n",
       "Sailor         1\n",
       "such           1\n",
       "Kevon          1\n",
       "Zeus           1\n",
       "JD             1\n",
       "Gromit         1\n",
       "Kingsley       1\n",
       "Devón          1\n",
       "Ginger         1\n",
       "Tommy          1\n",
       "Benny          1\n",
       "Shelby         1\n",
       "Socks          1\n",
       "Brockly        1\n",
       "Bruno          1\n",
       "Bauer          1\n",
       "Mairi          1\n",
       "Mason          1\n",
       "Alejandro      1\n",
       "Name: name, Length: 955, dtype: int64"
      ]
     },
     "execution_count": 429,
     "metadata": {},
     "output_type": "execute_result"
    }
   ],
   "source": [
    "twitter_enhanced.name.value_counts()"
   ]
  },
  {
   "cell_type": "code",
   "execution_count": 430,
   "metadata": {},
   "outputs": [
    {
     "name": "stdout",
     "output_type": "stream",
     "text": [
      "<class 'pandas.core.frame.DataFrame'>\n",
      "RangeIndex: 2090 entries, 0 to 2089\n",
      "Data columns (total 4 columns):\n",
      "creation_date    2090 non-null datetime64[ns]\n",
      "favourites       2090 non-null int64\n",
      "retweets         2090 non-null int64\n",
      "tweet_id         2090 non-null int64\n",
      "dtypes: datetime64[ns](1), int64(3)\n",
      "memory usage: 65.4 KB\n"
     ]
    }
   ],
   "source": [
    "tweets.info()"
   ]
  },
  {
   "cell_type": "code",
   "execution_count": 431,
   "metadata": {},
   "outputs": [
    {
     "data": {
      "text/html": [
       "<div>\n",
       "<style scoped>\n",
       "    .dataframe tbody tr th:only-of-type {\n",
       "        vertical-align: middle;\n",
       "    }\n",
       "\n",
       "    .dataframe tbody tr th {\n",
       "        vertical-align: top;\n",
       "    }\n",
       "\n",
       "    .dataframe thead th {\n",
       "        text-align: right;\n",
       "    }\n",
       "</style>\n",
       "<table border=\"1\" class=\"dataframe\">\n",
       "  <thead>\n",
       "    <tr style=\"text-align: right;\">\n",
       "      <th></th>\n",
       "      <th>favourites</th>\n",
       "      <th>retweets</th>\n",
       "      <th>tweet_id</th>\n",
       "    </tr>\n",
       "  </thead>\n",
       "  <tbody>\n",
       "    <tr>\n",
       "      <th>count</th>\n",
       "      <td>2090.000000</td>\n",
       "      <td>2090.000000</td>\n",
       "      <td>2.090000e+03</td>\n",
       "    </tr>\n",
       "    <tr>\n",
       "      <th>mean</th>\n",
       "      <td>8393.688517</td>\n",
       "      <td>2536.132536</td>\n",
       "      <td>7.363484e+17</td>\n",
       "    </tr>\n",
       "    <tr>\n",
       "      <th>std</th>\n",
       "      <td>12194.900435</td>\n",
       "      <td>4441.547449</td>\n",
       "      <td>6.702051e+16</td>\n",
       "    </tr>\n",
       "    <tr>\n",
       "      <th>min</th>\n",
       "      <td>72.000000</td>\n",
       "      <td>11.000000</td>\n",
       "      <td>6.660209e+17</td>\n",
       "    </tr>\n",
       "    <tr>\n",
       "      <th>25%</th>\n",
       "      <td>1865.000000</td>\n",
       "      <td>560.500000</td>\n",
       "      <td>6.767853e+17</td>\n",
       "    </tr>\n",
       "    <tr>\n",
       "      <th>50%</th>\n",
       "      <td>3837.500000</td>\n",
       "      <td>1230.500000</td>\n",
       "      <td>7.095381e+17</td>\n",
       "    </tr>\n",
       "    <tr>\n",
       "      <th>75%</th>\n",
       "      <td>10473.000000</td>\n",
       "      <td>2882.000000</td>\n",
       "      <td>7.872326e+17</td>\n",
       "    </tr>\n",
       "    <tr>\n",
       "      <th>max</th>\n",
       "      <td>157142.000000</td>\n",
       "      <td>78286.000000</td>\n",
       "      <td>8.924206e+17</td>\n",
       "    </tr>\n",
       "  </tbody>\n",
       "</table>\n",
       "</div>"
      ],
      "text/plain": [
       "          favourites      retweets      tweet_id\n",
       "count    2090.000000   2090.000000  2.090000e+03\n",
       "mean     8393.688517   2536.132536  7.363484e+17\n",
       "std     12194.900435   4441.547449  6.702051e+16\n",
       "min        72.000000     11.000000  6.660209e+17\n",
       "25%      1865.000000    560.500000  6.767853e+17\n",
       "50%      3837.500000   1230.500000  7.095381e+17\n",
       "75%     10473.000000   2882.000000  7.872326e+17\n",
       "max    157142.000000  78286.000000  8.924206e+17"
      ]
     },
     "execution_count": 431,
     "metadata": {},
     "output_type": "execute_result"
    }
   ],
   "source": [
    "tweets.describe()"
   ]
  },
  {
   "cell_type": "code",
   "execution_count": 432,
   "metadata": {},
   "outputs": [
    {
     "data": {
      "text/plain": [
       "https://pbs.twimg.com/ext_tw_video_thumb/815965888126062592/pu/img/JleSw4wRhgKDWQj5.jpg    2\n",
       "https://pbs.twimg.com/media/Cq9guJ5WgAADfpF.jpg                                            2\n",
       "https://pbs.twimg.com/media/CiibOMzUYAA9Mxz.jpg                                            2\n",
       "https://pbs.twimg.com/media/Ct72q9jWcAAhlnw.jpg                                            2\n",
       "https://pbs.twimg.com/media/CsVO7ljW8AAckRD.jpg                                            2\n",
       "https://pbs.twimg.com/media/CVgdFjNWEAAxmbq.jpg                                            2\n",
       "https://pbs.twimg.com/media/CpmyNumW8AAAJGj.jpg                                            2\n",
       "https://pbs.twimg.com/tweet_video_thumb/CeBym7oXEAEWbEg.jpg                                2\n",
       "https://pbs.twimg.com/media/C4bTH6nWMAAX_bJ.jpg                                            2\n",
       "https://pbs.twimg.com/media/Cp6db4-XYAAMmqL.jpg                                            2\n",
       "https://pbs.twimg.com/media/Crwxb5yWgAAX5P_.jpg                                            2\n",
       "https://pbs.twimg.com/media/CxqsX-8XUAAEvjD.jpg                                            2\n",
       "https://pbs.twimg.com/media/CtKHLuCWYAA2TTs.jpg                                            2\n",
       "https://pbs.twimg.com/media/CvT6IV6WEAQhhV5.jpg                                            2\n",
       "https://pbs.twimg.com/media/Ct2qO5PXEAE6eB0.jpg                                            2\n",
       "https://pbs.twimg.com/media/Cveg1-NXgAASaaT.jpg                                            2\n",
       "https://pbs.twimg.com/media/Ck2d7tJWUAEPTL3.jpg                                            2\n",
       "https://pbs.twimg.com/media/CWyD2HGUYAQ1Xa7.jpg                                            2\n",
       "https://pbs.twimg.com/media/C12whDoVEAALRxa.jpg                                            2\n",
       "https://pbs.twimg.com/media/CmoPdmHW8AAi8BI.jpg                                            2\n",
       "https://pbs.twimg.com/media/C2oRbOuWEAAbVSl.jpg                                            2\n",
       "https://pbs.twimg.com/media/CW88XN4WsAAlo8r.jpg                                            2\n",
       "https://pbs.twimg.com/media/CwS4aqZXUAAe3IO.jpg                                            2\n",
       "https://pbs.twimg.com/media/CvoBPWRWgAA4het.jpg                                            2\n",
       "https://pbs.twimg.com/media/CU3mITUWIAAfyQS.jpg                                            2\n",
       "https://pbs.twimg.com/media/Co-hmcYXYAASkiG.jpg                                            2\n",
       "https://pbs.twimg.com/media/ChK1tdBWwAQ1flD.jpg                                            2\n",
       "https://pbs.twimg.com/media/Cbs3DOAXIAAp3Bd.jpg                                            2\n",
       "https://pbs.twimg.com/media/CsrjryzWgAAZY00.jpg                                            2\n",
       "https://pbs.twimg.com/media/CvaYgDOWgAEfjls.jpg                                            2\n",
       "                                                                                          ..\n",
       "https://pbs.twimg.com/media/CVgyFSyU4AA9p1e.jpg                                            1\n",
       "https://pbs.twimg.com/media/ClLZU8LWQAAsOxV.jpg                                            1\n",
       "https://pbs.twimg.com/media/CUnuuLEWEAAlKjN.jpg                                            1\n",
       "https://pbs.twimg.com/media/Ce14cOvWwAAcFJH.jpg                                            1\n",
       "https://pbs.twimg.com/ext_tw_video_thumb/698341973569245184/pu/img/Sj3A2vSfbKWSv61T.jpg    1\n",
       "https://pbs.twimg.com/media/CmfoyrrW8AA8v7w.jpg                                            1\n",
       "https://pbs.twimg.com/media/CZRBZ9mWkAAWblt.jpg                                            1\n",
       "https://pbs.twimg.com/media/CwWVe_3WEAAHAvx.jpg                                            1\n",
       "https://pbs.twimg.com/media/Cfh7j6CWQAAndTd.jpg                                            1\n",
       "https://pbs.twimg.com/media/C-gxV9ZXkAIBL-S.jpg                                            1\n",
       "https://pbs.twimg.com/media/CYF3TSlWMAAaoG5.jpg                                            1\n",
       "https://pbs.twimg.com/media/CVt8OmIWIAAbxvJ.jpg                                            1\n",
       "https://pbs.twimg.com/media/CYaAS2kUoAINkye.jpg                                            1\n",
       "https://pbs.twimg.com/media/CW7bkW6WQAAksgB.jpg                                            1\n",
       "https://pbs.twimg.com/media/DD5yKdPW0AArzX8.jpg                                            1\n",
       "https://pbs.twimg.com/media/CaA-IR9VIAAqg5l.jpg                                            1\n",
       "https://pbs.twimg.com/media/CVo-JuMWwAAet6F.jpg                                            1\n",
       "https://pbs.twimg.com/media/CwMU34YWIAAz1nU.jpg                                            1\n",
       "https://pbs.twimg.com/media/Cme7pg2XEAATMnP.jpg                                            1\n",
       "https://pbs.twimg.com/media/CUNHMXTU8AAS3HH.jpg                                            1\n",
       "https://pbs.twimg.com/media/CewgnHAXEAAdbld.jpg                                            1\n",
       "https://pbs.twimg.com/media/Cuvau3MW8AAxaRv.jpg                                            1\n",
       "https://pbs.twimg.com/media/C6qGphPV4AEKrdc.jpg                                            1\n",
       "https://pbs.twimg.com/media/CrCh5RgW8AAXW4U.jpg                                            1\n",
       "https://pbs.twimg.com/media/CqqaPjqWIAAOyNL.jpg                                            1\n",
       "https://pbs.twimg.com/media/CZ2-SRiWcAIjuM5.jpg                                            1\n",
       "https://pbs.twimg.com/media/C8QkidrVYAQXQh7.jpg                                            1\n",
       "https://pbs.twimg.com/media/CvkgUjbUsAEvo7l.jpg                                            1\n",
       "https://pbs.twimg.com/media/C1V-K63UAAEUHqw.jpg                                            1\n",
       "https://pbs.twimg.com/media/CWH_FTgWIAAwOUy.jpg                                            1\n",
       "Name: jpg_url, Length: 2009, dtype: int64"
      ]
     },
     "execution_count": 432,
     "metadata": {},
     "output_type": "execute_result"
    }
   ],
   "source": [
    "image_predictions.jpg_url.value_counts()"
   ]
  },
  {
   "cell_type": "markdown",
   "metadata": {},
   "source": [
    "# Assessment\n",
    "### Quality \n",
    "\n",
    "**twitter_enhanced Dataframe**\n",
    "\n",
    "  1. There are six columns missing values \n",
    "  2. Name column has None, a and the, appearing often as names.\n",
    "  3. if numbers have a decimal, the whole numbers appear to be cut off\n",
    "  4. The 181 non-null retweet fields constitute non-original tweets in the dataset \n",
    "  5. reply columns respond to non-original tweets\n",
    "  6. timestamp fields are type object not datetime \n",
    "  7. source text is wrapped in html tags\n",
    "  \n",
    "**twitter API dataframe**\n",
    "\n",
    "  1. values are missing from several rows in the dataframe\n",
    "  2. There are less rows overall compared to the twitter_enhanced dataframe, presumably because they were unable to be retrieved from twitter's archive\n",
    "  3. tweet_id is an integer instead of a string\n",
    "  \n",
    "**image_prediction dataframe**\n",
    "  1. There appears to be duplicate url links for a number of images\n",
    "  \n",
    "### Tidiness \n",
    "**twitter_enhanced Dataframe**\n",
    "- retweet columns can be dropped as its non essential\n",
    "- 181 rows of retweets are non-required\n",
    "- reply columns are not required\n",
    "- dog types are categorical and should be reduced to one column \n",
    "\n",
    "**twitter API dataframe**\n",
    "- there are fewer rows in this table than the twitter enhanced table.\n",
    "- only retweet count and favourite count are needed from this table, the rest can be dropped \n",
    "- dataframe needs to be merged with twitter_enhanced data\n",
    "\n",
    "**image predictions dataframe**\n",
    "- fewer rows than in twitter_enhanced dataframe\n",
    "- image_prediction dataframe needs to be merged with twitter_enhanced data"
   ]
  },
  {
   "cell_type": "markdown",
   "metadata": {},
   "source": [
    "# Cleaning"
   ]
  },
  {
   "cell_type": "markdown",
   "metadata": {},
   "source": [
    "### Quality issue 1/2 - removing rows that aren't original tweets\n",
    "\n",
    "we cleaned the retweets and replies earlier from the twitter enhanced dataframe. Those columns can now be dropped"
   ]
  },
  {
   "cell_type": "code",
   "execution_count": 433,
   "metadata": {},
   "outputs": [
    {
     "name": "stdout",
     "output_type": "stream",
     "text": [
      "<class 'pandas.core.frame.DataFrame'>\n",
      "Int64Index: 2097 entries, 0 to 2355\n",
      "Data columns (total 17 columns):\n",
      "tweet_id                      2097 non-null int64\n",
      "in_reply_to_status_id         0 non-null float64\n",
      "in_reply_to_user_id           0 non-null float64\n",
      "timestamp                     2097 non-null object\n",
      "source                        2097 non-null object\n",
      "text                          2097 non-null object\n",
      "retweeted_status_id           0 non-null float64\n",
      "retweeted_status_user_id      0 non-null float64\n",
      "retweeted_status_timestamp    0 non-null object\n",
      "expanded_urls                 2094 non-null object\n",
      "rating_numerator              2097 non-null int64\n",
      "rating_denominator            2097 non-null int64\n",
      "name                          2097 non-null object\n",
      "doggo                         2097 non-null object\n",
      "floofer                       2097 non-null object\n",
      "pupper                        2097 non-null object\n",
      "puppo                         2097 non-null object\n",
      "dtypes: float64(4), int64(3), object(10)\n",
      "memory usage: 294.9+ KB\n"
     ]
    }
   ],
   "source": [
    "twitter_enhanced.info()"
   ]
  },
  {
   "cell_type": "markdown",
   "metadata": {},
   "source": [
    "### Tidiness Issue 1 - dropping unrequired columns from twitter enhanced "
   ]
  },
  {
   "cell_type": "code",
   "execution_count": 434,
   "metadata": {},
   "outputs": [
    {
     "name": "stdout",
     "output_type": "stream",
     "text": [
      "<class 'pandas.core.frame.DataFrame'>\n",
      "RangeIndex: 2097 entries, 0 to 2096\n",
      "Data columns (total 11 columns):\n",
      "tweet_id              2097 non-null int64\n",
      "timestamp             2097 non-null object\n",
      "source                2097 non-null object\n",
      "text                  2097 non-null object\n",
      "rating_numerator      2097 non-null int64\n",
      "rating_denominator    2097 non-null int64\n",
      "name                  2097 non-null object\n",
      "doggo                 2097 non-null object\n",
      "floofer               2097 non-null object\n",
      "pupper                2097 non-null object\n",
      "puppo                 2097 non-null object\n",
      "dtypes: int64(3), object(8)\n",
      "memory usage: 180.3+ KB\n"
     ]
    }
   ],
   "source": [
    "#create copy of dataframe\n",
    "#drop unrequired columns from twitter_enhanced\n",
    "twitter_enhanced_clean = twitter_enhanced.copy()\n",
    "columns = ['in_reply_to_status_id','in_reply_to_user_id','retweeted_status_id','retweeted_status_user_id','retweeted_status_timestamp','expanded_urls']\n",
    "twitter_enhanced_clean.reset_index(drop=True, inplace=True)\n",
    "twitter_enhanced_clean.drop(columns, axis=1, inplace=True)\n",
    "twitter_enhanced_clean.info()"
   ]
  },
  {
   "cell_type": "code",
   "execution_count": 435,
   "metadata": {},
   "outputs": [
    {
     "name": "stderr",
     "output_type": "stream",
     "text": [
      "/Users/alexanderleighton/anaconda/lib/python3.6/site-packages/ipykernel_launcher.py:2: FutureWarning: currently extract(expand=None) means expand=False (return Index/Series/DataFrame) but in a future version of pandas this will be changed to expand=True (return DataFrame)\n",
      "  \n"
     ]
    }
   ],
   "source": [
    "#collapse dog stages into one column \n",
    "twitter_enhanced_clean['stage'] = twitter_enhanced_clean['text'].str.extract('(doggo|floofer|pupper|puppo)')\n",
    "columns = ['doggo','floofer','pupper','puppo']\n",
    "twitter_enhanced_clean.drop(columns, axis=1, inplace=True)"
   ]
  },
  {
   "cell_type": "code",
   "execution_count": 436,
   "metadata": {},
   "outputs": [
    {
     "data": {
      "text/html": [
       "<div>\n",
       "<style scoped>\n",
       "    .dataframe tbody tr th:only-of-type {\n",
       "        vertical-align: middle;\n",
       "    }\n",
       "\n",
       "    .dataframe tbody tr th {\n",
       "        vertical-align: top;\n",
       "    }\n",
       "\n",
       "    .dataframe thead th {\n",
       "        text-align: right;\n",
       "    }\n",
       "</style>\n",
       "<table border=\"1\" class=\"dataframe\">\n",
       "  <thead>\n",
       "    <tr style=\"text-align: right;\">\n",
       "      <th></th>\n",
       "      <th>tweet_id</th>\n",
       "      <th>timestamp</th>\n",
       "      <th>source</th>\n",
       "      <th>text</th>\n",
       "      <th>rating_numerator</th>\n",
       "      <th>rating_denominator</th>\n",
       "      <th>name</th>\n",
       "      <th>stage</th>\n",
       "    </tr>\n",
       "  </thead>\n",
       "  <tbody>\n",
       "    <tr>\n",
       "      <th>0</th>\n",
       "      <td>892420643555336193</td>\n",
       "      <td>2017-08-01 16:23:56 +0000</td>\n",
       "      <td>&lt;a href=\"http://twitter.com/download/iphone\" r...</td>\n",
       "      <td>This is Phineas. He's a mystical boy. Only eve...</td>\n",
       "      <td>13</td>\n",
       "      <td>10</td>\n",
       "      <td>Phineas</td>\n",
       "      <td>NaN</td>\n",
       "    </tr>\n",
       "    <tr>\n",
       "      <th>1</th>\n",
       "      <td>892177421306343426</td>\n",
       "      <td>2017-08-01 00:17:27 +0000</td>\n",
       "      <td>&lt;a href=\"http://twitter.com/download/iphone\" r...</td>\n",
       "      <td>This is Tilly. She's just checking pup on you....</td>\n",
       "      <td>13</td>\n",
       "      <td>10</td>\n",
       "      <td>Tilly</td>\n",
       "      <td>NaN</td>\n",
       "    </tr>\n",
       "    <tr>\n",
       "      <th>2</th>\n",
       "      <td>891815181378084864</td>\n",
       "      <td>2017-07-31 00:18:03 +0000</td>\n",
       "      <td>&lt;a href=\"http://twitter.com/download/iphone\" r...</td>\n",
       "      <td>This is Archie. He is a rare Norwegian Pouncin...</td>\n",
       "      <td>12</td>\n",
       "      <td>10</td>\n",
       "      <td>Archie</td>\n",
       "      <td>NaN</td>\n",
       "    </tr>\n",
       "    <tr>\n",
       "      <th>3</th>\n",
       "      <td>891689557279858688</td>\n",
       "      <td>2017-07-30 15:58:51 +0000</td>\n",
       "      <td>&lt;a href=\"http://twitter.com/download/iphone\" r...</td>\n",
       "      <td>This is Darla. She commenced a snooze mid meal...</td>\n",
       "      <td>13</td>\n",
       "      <td>10</td>\n",
       "      <td>Darla</td>\n",
       "      <td>NaN</td>\n",
       "    </tr>\n",
       "    <tr>\n",
       "      <th>4</th>\n",
       "      <td>891327558926688256</td>\n",
       "      <td>2017-07-29 16:00:24 +0000</td>\n",
       "      <td>&lt;a href=\"http://twitter.com/download/iphone\" r...</td>\n",
       "      <td>This is Franklin. He would like you to stop ca...</td>\n",
       "      <td>12</td>\n",
       "      <td>10</td>\n",
       "      <td>Franklin</td>\n",
       "      <td>NaN</td>\n",
       "    </tr>\n",
       "  </tbody>\n",
       "</table>\n",
       "</div>"
      ],
      "text/plain": [
       "             tweet_id                  timestamp  \\\n",
       "0  892420643555336193  2017-08-01 16:23:56 +0000   \n",
       "1  892177421306343426  2017-08-01 00:17:27 +0000   \n",
       "2  891815181378084864  2017-07-31 00:18:03 +0000   \n",
       "3  891689557279858688  2017-07-30 15:58:51 +0000   \n",
       "4  891327558926688256  2017-07-29 16:00:24 +0000   \n",
       "\n",
       "                                              source  \\\n",
       "0  <a href=\"http://twitter.com/download/iphone\" r...   \n",
       "1  <a href=\"http://twitter.com/download/iphone\" r...   \n",
       "2  <a href=\"http://twitter.com/download/iphone\" r...   \n",
       "3  <a href=\"http://twitter.com/download/iphone\" r...   \n",
       "4  <a href=\"http://twitter.com/download/iphone\" r...   \n",
       "\n",
       "                                                text  rating_numerator  \\\n",
       "0  This is Phineas. He's a mystical boy. Only eve...                13   \n",
       "1  This is Tilly. She's just checking pup on you....                13   \n",
       "2  This is Archie. He is a rare Norwegian Pouncin...                12   \n",
       "3  This is Darla. She commenced a snooze mid meal...                13   \n",
       "4  This is Franklin. He would like you to stop ca...                12   \n",
       "\n",
       "   rating_denominator      name stage  \n",
       "0                  10   Phineas   NaN  \n",
       "1                  10     Tilly   NaN  \n",
       "2                  10    Archie   NaN  \n",
       "3                  10     Darla   NaN  \n",
       "4                  10  Franklin   NaN  "
      ]
     },
     "execution_count": 436,
     "metadata": {},
     "output_type": "execute_result"
    }
   ],
   "source": [
    "twitter_enhanced_clean.head()"
   ]
  },
  {
   "cell_type": "markdown",
   "metadata": {},
   "source": [
    "### Quality issue 3/4 - fixing values in Name column"
   ]
  },
  {
   "cell_type": "code",
   "execution_count": 437,
   "metadata": {
    "collapsed": true
   },
   "outputs": [],
   "source": [
    "#find non-name words (any words beginning with a lowercase letter)\n",
    "words = []\n",
    "for name in twitter_enhanced_clean['name']:\n",
    "    if name[0].islower() and name not in words:\n",
    "        words.append(name)"
   ]
  },
  {
   "cell_type": "code",
   "execution_count": 438,
   "metadata": {},
   "outputs": [
    {
     "name": "stdout",
     "output_type": "stream",
     "text": [
      "['such', 'a', 'quite', 'not', 'one', 'incredibly', 'very', 'my', 'his', 'an', 'actually', 'just', 'getting', 'mad', 'this', 'unacceptable', 'all', 'old', 'infuriating', 'the', 'by', 'officially', 'life', 'light', 'space']\n"
     ]
    }
   ],
   "source": [
    "print(words)"
   ]
  },
  {
   "cell_type": "code",
   "execution_count": 439,
   "metadata": {
    "collapsed": true
   },
   "outputs": [],
   "source": [
    "#replace occurences with Nan\n",
    "twitter_enhanced_clean.name.replace(words, np.nan, inplace = True)"
   ]
  },
  {
   "cell_type": "code",
   "execution_count": 440,
   "metadata": {
    "collapsed": true
   },
   "outputs": [],
   "source": [
    "#replace None value with Nan\n",
    "twitter_enhanced_clean.name.replace('None', np.nan, inplace = True)"
   ]
  },
  {
   "cell_type": "code",
   "execution_count": 441,
   "metadata": {},
   "outputs": [
    {
     "data": {
      "text/plain": [
       "Lucy         11\n",
       "Charlie      11\n",
       "Oliver       10\n",
       "Cooper       10\n",
       "Penny         9\n",
       "Tucker        9\n",
       "Winston       8\n",
       "Lola          8\n",
       "Sadie         8\n",
       "Daisy         7\n",
       "Toby          7\n",
       "Bo            6\n",
       "Jax           6\n",
       "Oscar         6\n",
       "Bailey        6\n",
       "Koda          6\n",
       "Bella         6\n",
       "Stanley       6\n",
       "Louis         5\n",
       "Buddy         5\n",
       "Chester       5\n",
       "Leo           5\n",
       "Rusty         5\n",
       "Bentley       5\n",
       "Milo          5\n",
       "Dave          5\n",
       "Scout         5\n",
       "Winnie        4\n",
       "Brody         4\n",
       "Oakley        4\n",
       "             ..\n",
       "Willy         1\n",
       "Kellogg       1\n",
       "Charleson     1\n",
       "Dale          1\n",
       "Hamrick       1\n",
       "BeBe          1\n",
       "Raphael       1\n",
       "Fletcher      1\n",
       "Shelby        1\n",
       "Kevon         1\n",
       "Zeus          1\n",
       "JD            1\n",
       "Gromit        1\n",
       "Kingsley      1\n",
       "Devón         1\n",
       "Ginger        1\n",
       "Tommy         1\n",
       "Benny         1\n",
       "Socks         1\n",
       "Ralph         1\n",
       "Brockly       1\n",
       "Bruno         1\n",
       "Bauer         1\n",
       "Mairi         1\n",
       "Mason         1\n",
       "Obi           1\n",
       "Storkson      1\n",
       "Sundance      1\n",
       "Alexander     1\n",
       "Alejandro     1\n",
       "Name: name, Length: 929, dtype: int64"
      ]
     },
     "execution_count": 441,
     "metadata": {},
     "output_type": "execute_result"
    }
   ],
   "source": [
    "twitter_enhanced_clean.name.value_counts()"
   ]
  },
  {
   "cell_type": "code",
   "execution_count": 442,
   "metadata": {},
   "outputs": [
    {
     "name": "stdout",
     "output_type": "stream",
     "text": [
      "<class 'pandas.core.frame.DataFrame'>\n",
      "RangeIndex: 2097 entries, 0 to 2096\n",
      "Data columns (total 8 columns):\n",
      "tweet_id              2097 non-null int64\n",
      "timestamp             2097 non-null object\n",
      "source                2097 non-null object\n",
      "text                  2097 non-null object\n",
      "rating_numerator      2097 non-null int64\n",
      "rating_denominator    2097 non-null int64\n",
      "name                  1390 non-null object\n",
      "stage                 353 non-null object\n",
      "dtypes: int64(3), object(5)\n",
      "memory usage: 131.1+ KB\n"
     ]
    }
   ],
   "source": [
    "twitter_enhanced_clean.info()"
   ]
  },
  {
   "cell_type": "markdown",
   "metadata": {
    "collapsed": true
   },
   "source": [
    "### Quality issue 5 - collapsing image_prediction columns and removing non-dog types from DataFrame"
   ]
  },
  {
   "cell_type": "code",
   "execution_count": 444,
   "metadata": {},
   "outputs": [
    {
     "data": {
      "text/html": [
       "<div>\n",
       "<style scoped>\n",
       "    .dataframe tbody tr th:only-of-type {\n",
       "        vertical-align: middle;\n",
       "    }\n",
       "\n",
       "    .dataframe tbody tr th {\n",
       "        vertical-align: top;\n",
       "    }\n",
       "\n",
       "    .dataframe thead th {\n",
       "        text-align: right;\n",
       "    }\n",
       "</style>\n",
       "<table border=\"1\" class=\"dataframe\">\n",
       "  <thead>\n",
       "    <tr style=\"text-align: right;\">\n",
       "      <th></th>\n",
       "      <th>tweet_id</th>\n",
       "      <th>p1</th>\n",
       "      <th>p1_conf</th>\n",
       "      <th>p1_dog</th>\n",
       "    </tr>\n",
       "  </thead>\n",
       "  <tbody>\n",
       "    <tr>\n",
       "      <th>0</th>\n",
       "      <td>666020888022790149</td>\n",
       "      <td>Shetland_sheepdog</td>\n",
       "      <td>0.061428</td>\n",
       "      <td>True</td>\n",
       "    </tr>\n",
       "    <tr>\n",
       "      <th>1</th>\n",
       "      <td>666029285002620928</td>\n",
       "      <td>Rhodesian_ridgeback</td>\n",
       "      <td>0.072010</td>\n",
       "      <td>True</td>\n",
       "    </tr>\n",
       "    <tr>\n",
       "      <th>2</th>\n",
       "      <td>666033412701032449</td>\n",
       "      <td>bloodhound</td>\n",
       "      <td>0.116197</td>\n",
       "      <td>True</td>\n",
       "    </tr>\n",
       "    <tr>\n",
       "      <th>3</th>\n",
       "      <td>666044226329800704</td>\n",
       "      <td>miniature_pinscher</td>\n",
       "      <td>0.222752</td>\n",
       "      <td>True</td>\n",
       "    </tr>\n",
       "    <tr>\n",
       "      <th>4</th>\n",
       "      <td>666049248165822465</td>\n",
       "      <td>Doberman</td>\n",
       "      <td>0.154629</td>\n",
       "      <td>True</td>\n",
       "    </tr>\n",
       "  </tbody>\n",
       "</table>\n",
       "</div>"
      ],
      "text/plain": [
       "             tweet_id                   p1   p1_conf  p1_dog\n",
       "0  666020888022790149    Shetland_sheepdog  0.061428    True\n",
       "1  666029285002620928  Rhodesian_ridgeback  0.072010    True\n",
       "2  666033412701032449           bloodhound  0.116197    True\n",
       "3  666044226329800704   miniature_pinscher  0.222752    True\n",
       "4  666049248165822465             Doberman  0.154629    True"
      ]
     },
     "execution_count": 444,
     "metadata": {},
     "output_type": "execute_result"
    }
   ],
   "source": [
    "image_predictions_clean = image_predictions.copy()\n",
    "p1 = image_predictions_clean[['tweet_id','p1', 'p1_conf','p1_dog']].copy()\n",
    "p2 = image_predictions_clean[['tweet_id','p2', 'p2_conf','p2_dog']].copy()\n",
    "p3 = image_predictions_clean[['tweet_id','p3', 'p3_conf','p3_dog']].copy()\n",
    "\n",
    "p2.rename(columns={\"p2\": \"p1\", \"p2_conf\":\"p1_conf\", \"p2_dog\": \"p1_dog\"}, inplace=True)\n",
    "p3.rename(columns={\"p3\": \"p1\", \"p3_conf\":\"p1_conf\", \"p3_dog\": \"p1_dog\"}, inplace=True)\n",
    "p3.head()"
   ]
  },
  {
   "cell_type": "code",
   "execution_count": 445,
   "metadata": {},
   "outputs": [
    {
     "data": {
      "text/html": [
       "<div>\n",
       "<style scoped>\n",
       "    .dataframe tbody tr th:only-of-type {\n",
       "        vertical-align: middle;\n",
       "    }\n",
       "\n",
       "    .dataframe tbody tr th {\n",
       "        vertical-align: top;\n",
       "    }\n",
       "\n",
       "    .dataframe thead th {\n",
       "        text-align: right;\n",
       "    }\n",
       "</style>\n",
       "<table border=\"1\" class=\"dataframe\">\n",
       "  <thead>\n",
       "    <tr style=\"text-align: right;\">\n",
       "      <th></th>\n",
       "      <th>tweet_id</th>\n",
       "      <th>prediction</th>\n",
       "      <th>confidence</th>\n",
       "      <th>is_dog</th>\n",
       "    </tr>\n",
       "  </thead>\n",
       "  <tbody>\n",
       "    <tr>\n",
       "      <th>0</th>\n",
       "      <td>666020888022790149</td>\n",
       "      <td>Welsh_springer_spaniel</td>\n",
       "      <td>0.465074</td>\n",
       "      <td>True</td>\n",
       "    </tr>\n",
       "    <tr>\n",
       "      <th>1</th>\n",
       "      <td>666029285002620928</td>\n",
       "      <td>redbone</td>\n",
       "      <td>0.506826</td>\n",
       "      <td>True</td>\n",
       "    </tr>\n",
       "    <tr>\n",
       "      <th>2</th>\n",
       "      <td>666033412701032449</td>\n",
       "      <td>German_shepherd</td>\n",
       "      <td>0.596461</td>\n",
       "      <td>True</td>\n",
       "    </tr>\n",
       "    <tr>\n",
       "      <th>3</th>\n",
       "      <td>666044226329800704</td>\n",
       "      <td>Rhodesian_ridgeback</td>\n",
       "      <td>0.408143</td>\n",
       "      <td>True</td>\n",
       "    </tr>\n",
       "    <tr>\n",
       "      <th>4</th>\n",
       "      <td>666049248165822465</td>\n",
       "      <td>miniature_pinscher</td>\n",
       "      <td>0.560311</td>\n",
       "      <td>True</td>\n",
       "    </tr>\n",
       "  </tbody>\n",
       "</table>\n",
       "</div>"
      ],
      "text/plain": [
       "             tweet_id              prediction  confidence  is_dog\n",
       "0  666020888022790149  Welsh_springer_spaniel    0.465074    True\n",
       "1  666029285002620928                 redbone    0.506826    True\n",
       "2  666033412701032449         German_shepherd    0.596461    True\n",
       "3  666044226329800704     Rhodesian_ridgeback    0.408143    True\n",
       "4  666049248165822465      miniature_pinscher    0.560311    True"
      ]
     },
     "execution_count": 445,
     "metadata": {},
     "output_type": "execute_result"
    }
   ],
   "source": [
    "#aggregate dataframes\n",
    "p1 = p1.append(p2, ignore_index=True)\n",
    "p1 = p1.append(p3, ignore_index=True)\n",
    "p1.rename(columns={'p1':'prediction','p1_conf':'confidence','p1_dog':'is_dog'}, inplace=True)\n",
    "p1.head()"
   ]
  },
  {
   "cell_type": "code",
   "execution_count": 446,
   "metadata": {},
   "outputs": [],
   "source": [
    "#joining the original refactored columns with the image_prediction dataframe\n",
    "image_predictions_clean = image_predictions_clean.merge(p1, on=\"tweet_id\")"
   ]
  },
  {
   "cell_type": "code",
   "execution_count": 447,
   "metadata": {},
   "outputs": [
    {
     "name": "stdout",
     "output_type": "stream",
     "text": [
      "<class 'pandas.core.frame.DataFrame'>\n",
      "Int64Index: 6225 entries, 0 to 6224\n",
      "Data columns (total 15 columns):\n",
      "tweet_id      6225 non-null int64\n",
      "jpg_url       6225 non-null object\n",
      "img_num       6225 non-null int64\n",
      "p1            6225 non-null object\n",
      "p1_conf       6225 non-null float64\n",
      "p1_dog        6225 non-null bool\n",
      "p2            6225 non-null object\n",
      "p2_conf       6225 non-null float64\n",
      "p2_dog        6225 non-null bool\n",
      "p3            6225 non-null object\n",
      "p3_conf       6225 non-null float64\n",
      "p3_dog        6225 non-null bool\n",
      "prediction    6225 non-null object\n",
      "confidence    6225 non-null float64\n",
      "is_dog        6225 non-null bool\n",
      "dtypes: bool(4), float64(4), int64(2), object(5)\n",
      "memory usage: 607.9+ KB\n"
     ]
    }
   ],
   "source": [
    "image_predictions_clean.info()"
   ]
  },
  {
   "cell_type": "code",
   "execution_count": 448,
   "metadata": {},
   "outputs": [
    {
     "name": "stdout",
     "output_type": "stream",
     "text": [
      "<class 'pandas.core.frame.DataFrame'>\n",
      "Int64Index: 6225 entries, 0 to 6224\n",
      "Data columns (total 5 columns):\n",
      "tweet_id      6225 non-null int64\n",
      "jpg_url       6225 non-null object\n",
      "prediction    6225 non-null object\n",
      "confidence    6225 non-null float64\n",
      "is_dog        6225 non-null bool\n",
      "dtypes: bool(1), float64(1), int64(1), object(2)\n",
      "memory usage: 249.2+ KB\n"
     ]
    }
   ],
   "source": [
    "#drop unrequired columns \n",
    "columns = ['p1','p1_conf','p1_dog','p2_dog','p2','p2_conf','p2_dog','p3','p3_conf','p3_dog', 'img_num']\n",
    "image_predictions_clean.drop(columns, axis=1, inplace=True)\n",
    "image_predictions_clean.info()"
   ]
  },
  {
   "cell_type": "markdown",
   "metadata": {},
   "source": [
    "### Quality issue 6 - dropping non-dog rows from image_predictions"
   ]
  },
  {
   "cell_type": "code",
   "execution_count": 449,
   "metadata": {},
   "outputs": [
    {
     "data": {
      "text/plain": [
       "True    4584\n",
       "Name: is_dog, dtype: int64"
      ]
     },
     "execution_count": 449,
     "metadata": {},
     "output_type": "execute_result"
    }
   ],
   "source": [
    "#clean and test\n",
    "image_predictions_clean.drop(image_predictions_clean[image_predictions_clean.is_dog == False].index, inplace=True)\n",
    "image_predictions_clean.is_dog.value_counts()"
   ]
  },
  {
   "cell_type": "markdown",
   "metadata": {},
   "source": [
    "### Tidiness issue 2 - Merging Dataframes (twitter_enhanced and tweets)"
   ]
  },
  {
   "cell_type": "code",
   "execution_count": 450,
   "metadata": {},
   "outputs": [
    {
     "name": "stdout",
     "output_type": "stream",
     "text": [
      "<class 'pandas.core.frame.DataFrame'>\n",
      "Int64Index: 2090 entries, 0 to 2089\n",
      "Data columns (total 11 columns):\n",
      "tweet_id              2090 non-null int64\n",
      "timestamp             2090 non-null object\n",
      "source                2090 non-null object\n",
      "text                  2090 non-null object\n",
      "rating_numerator      2090 non-null int64\n",
      "rating_denominator    2090 non-null int64\n",
      "name                  1383 non-null object\n",
      "stage                 351 non-null object\n",
      "creation_date         2090 non-null datetime64[ns]\n",
      "favourites            2090 non-null int64\n",
      "retweets              2090 non-null int64\n",
      "dtypes: datetime64[ns](1), int64(5), object(5)\n",
      "memory usage: 195.9+ KB\n"
     ]
    }
   ],
   "source": [
    "twitter = twitter_enhanced_clean.merge(tweets, on='tweet_id')\n",
    "twitter.info()"
   ]
  },
  {
   "cell_type": "code",
   "execution_count": 451,
   "metadata": {},
   "outputs": [
    {
     "name": "stdout",
     "output_type": "stream",
     "text": [
      "<class 'pandas.core.frame.DataFrame'>\n",
      "Int64Index: 2090 entries, 0 to 2089\n",
      "Data columns (total 10 columns):\n",
      "tweet_id              2090 non-null int64\n",
      "timestamp             2090 non-null object\n",
      "source                2090 non-null object\n",
      "text                  2090 non-null object\n",
      "rating_numerator      2090 non-null int64\n",
      "rating_denominator    2090 non-null int64\n",
      "name                  1383 non-null object\n",
      "stage                 351 non-null object\n",
      "favourites            2090 non-null int64\n",
      "retweets              2090 non-null int64\n",
      "dtypes: int64(5), object(5)\n",
      "memory usage: 179.6+ KB\n"
     ]
    }
   ],
   "source": [
    "#drop duplicate date column and test\n",
    "twitter.drop(columns=['creation_date'], axis=1, inplace=True)\n",
    "twitter.info()"
   ]
  },
  {
   "cell_type": "markdown",
   "metadata": {},
   "source": [
    "### Quality issue 7 - changing columns to correct datatypes "
   ]
  },
  {
   "cell_type": "code",
   "execution_count": 452,
   "metadata": {},
   "outputs": [],
   "source": [
    "twitter['timestamp'] = pd.to_datetime(twitter['timestamp'])"
   ]
  },
  {
   "cell_type": "code",
   "execution_count": 453,
   "metadata": {
    "collapsed": true
   },
   "outputs": [],
   "source": [
    "twitter['stage'] = twitter['stage'].astype('category')"
   ]
  },
  {
   "cell_type": "code",
   "execution_count": 454,
   "metadata": {
    "collapsed": true
   },
   "outputs": [],
   "source": [
    "twitter['tweet_id'] = twitter['tweet_id'].astype('str')\n",
    "image_predictions_clean['tweet_id'] = image_predictions_clean['tweet_id'].astype('str')"
   ]
  },
  {
   "cell_type": "code",
   "execution_count": 455,
   "metadata": {},
   "outputs": [
    {
     "name": "stdout",
     "output_type": "stream",
     "text": [
      "<class 'pandas.core.frame.DataFrame'>\n",
      "Int64Index: 2090 entries, 0 to 2089\n",
      "Data columns (total 10 columns):\n",
      "tweet_id              2090 non-null object\n",
      "timestamp             2090 non-null datetime64[ns]\n",
      "source                2090 non-null object\n",
      "text                  2090 non-null object\n",
      "rating_numerator      2090 non-null int64\n",
      "rating_denominator    2090 non-null int64\n",
      "name                  1383 non-null object\n",
      "stage                 351 non-null category\n",
      "favourites            2090 non-null int64\n",
      "retweets              2090 non-null int64\n",
      "dtypes: category(1), datetime64[ns](1), int64(4), object(4)\n",
      "memory usage: 165.5+ KB\n"
     ]
    }
   ],
   "source": [
    "twitter.info()"
   ]
  },
  {
   "cell_type": "markdown",
   "metadata": {},
   "source": [
    "### Quality issue 8 - removing html from source column values"
   ]
  },
  {
   "cell_type": "code",
   "execution_count": 456,
   "metadata": {},
   "outputs": [],
   "source": [
    "#code\n",
    "twitter.source = twitter.source.apply(lambda x: re.findall(r'>(.*)<', x)[0])"
   ]
  },
  {
   "cell_type": "code",
   "execution_count": 457,
   "metadata": {},
   "outputs": [
    {
     "data": {
      "text/plain": [
       "Twitter for iPhone     1958\n",
       "Vine - Make a Scene      91\n",
       "Twitter Web Client       31\n",
       "TweetDeck                10\n",
       "Name: source, dtype: int64"
      ]
     },
     "execution_count": 457,
     "metadata": {},
     "output_type": "execute_result"
    }
   ],
   "source": [
    "#test\n",
    "twitter.source.value_counts()"
   ]
  },
  {
   "cell_type": "markdown",
   "metadata": {},
   "source": [
    "## Storing cleaned datasets"
   ]
  },
  {
   "cell_type": "code",
   "execution_count": 458,
   "metadata": {},
   "outputs": [],
   "source": [
    "twitter.to_csv('twitter_archive_master.csv')\n",
    "image_predictions_clean.to_csv('image_predictions_master.csv')"
   ]
  },
  {
   "cell_type": "markdown",
   "metadata": {},
   "source": [
    "# References \n",
    "https://stackoverflow.com/questions/13851535/delete-rows-from-a-pandas-dataframe-based-on-a-conditional-expression-involving\n",
    "https://thispointer.com/pandas-apply-apply-a-function-to-each-row-column-in-dataframe/"
   ]
  },
  {
   "cell_type": "code",
   "execution_count": null,
   "metadata": {
    "collapsed": true
   },
   "outputs": [],
   "source": []
  }
 ],
 "metadata": {
  "kernelspec": {
   "display_name": "Python 3",
   "language": "python",
   "name": "python3"
  },
  "language_info": {
   "codemirror_mode": {
    "name": "ipython",
    "version": 3
   },
   "file_extension": ".py",
   "mimetype": "text/x-python",
   "name": "python",
   "nbconvert_exporter": "python",
   "pygments_lexer": "ipython3",
   "version": "3.6.10"
  }
 },
 "nbformat": 4,
 "nbformat_minor": 2
}
