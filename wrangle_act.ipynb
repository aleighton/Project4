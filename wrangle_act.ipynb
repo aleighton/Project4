{
 "cells": [
  {
   "cell_type": "markdown",
   "metadata": {},
   "source": [
    "## Wrangle and Analyse Data\n",
    "\n",
    "\n",
    "This project primarily focuses on wrangling and visualising the tweet data found in the <a href='https://en.wikipedia.org/wiki/WeRateDogs'>WeRateDogs</a> twitter account. This data wasn't provided clean, it was spread across multiple files, different formats and structured in ways that required auditing and reshaping, so that it could be used in analysis. The notebook is separated into 3 stages, Gathering, Assessment and Cleaning. \n",
    "\n",
    "\n",
    "## Table of Contents \n",
    "1. <a href='#gathering'>Gathering</a>\n",
    "\n",
    "2. <a href='#assessment'>Assessment</a>\n",
    "\n",
    "3. <a href='#cleaning'>Cleaning</a>\n",
    "    - <a href='#issue_1'>Quality Issues 1/2</a>\n",
    "    - <a href='#issue_3'>Quality Issues 3/4</a>\n",
    "    - <a href='#issue_5'>Quality Issue 5</a>\n",
    "    - <a href='#issue_6'>Quality Issue 6</a>\n",
    "    - <a href='#issue_7'>Quality Issue 7</a>\n",
    "    - <a href='#issue_8'>Quality Issue 8</a>\n",
    "    - <a href='#issue_9'>Tidiness Issue 1</a>\n",
    "    - <a href='#issue_10'>Tidiness Issue 2</a>\n",
    "    - <a href='#storage'>Storing Cleaned Data</a>\n",
    "\n",
    "4. <a href='#visualisation'>Visualisation and Analysis</a>\n",
    "5. <a href='#references'>References</a>"
   ]
  },
  {
   "cell_type": "code",
   "execution_count": 200,
   "metadata": {},
   "outputs": [],
   "source": [
    "#import packages\n",
    "import pandas as pd \n",
    "import numpy as np \n",
    "import seaborn as sns \n",
    "import matplotlib.pyplot as plt \n",
    "import tweepy as tw \n",
    "import requests \n",
    "import json\n",
    "import re\n",
    "import os \n",
    "\n",
    "% matplotlib inline\n",
    "\n",
    "#API key variables stored in separate file \n",
    "%run twitter_keys"
   ]
  },
  {
   "cell_type": "markdown",
   "metadata": {},
   "source": [
    "<a id='gathering'></a>\n",
    "## Gathering\n",
    "\n",
    "1. Supplied twitter_enhanced dataset must be loaded from file \n",
    "2. Image_prediction dataset must be scraped from Udacity website \n",
    "3. Archive tweet data must be queried through twitter API \n",
    "   - As we'll be using the tweet_id from the supplied twitter_enhanced dataset, the tweet_id column must first cleaned  before we gather more data to avoid any duplicates, reweets and responses to other tweets, this step will reduce the collection time associated with use of the API as well as avoid duplicates in the third dataset"
   ]
  },
  {
   "cell_type": "code",
   "execution_count": 201,
   "metadata": {
    "collapsed": true
   },
   "outputs": [],
   "source": [
    "#load supplied twitter data - csv format \n",
    "twitter_enhanced = pd.read_csv('twitter-archive-enhanced.csv')"
   ]
  },
  {
   "cell_type": "code",
   "execution_count": 202,
   "metadata": {},
   "outputs": [
    {
     "name": "stdout",
     "output_type": "stream",
     "text": [
      "<class 'pandas.core.frame.DataFrame'>\n",
      "RangeIndex: 2356 entries, 0 to 2355\n",
      "Data columns (total 17 columns):\n",
      "tweet_id                      2356 non-null int64\n",
      "in_reply_to_status_id         78 non-null float64\n",
      "in_reply_to_user_id           78 non-null float64\n",
      "timestamp                     2356 non-null object\n",
      "source                        2356 non-null object\n",
      "text                          2356 non-null object\n",
      "retweeted_status_id           181 non-null float64\n",
      "retweeted_status_user_id      181 non-null float64\n",
      "retweeted_status_timestamp    181 non-null object\n",
      "expanded_urls                 2297 non-null object\n",
      "rating_numerator              2356 non-null int64\n",
      "rating_denominator            2356 non-null int64\n",
      "name                          2356 non-null object\n",
      "doggo                         2356 non-null object\n",
      "floofer                       2356 non-null object\n",
      "pupper                        2356 non-null object\n",
      "puppo                         2356 non-null object\n",
      "dtypes: float64(4), int64(3), object(10)\n",
      "memory usage: 313.0+ KB\n"
     ]
    }
   ],
   "source": [
    "twitter_enhanced.head(4)\n",
    "twitter_enhanced.info()"
   ]
  },
  {
   "cell_type": "code",
   "execution_count": 203,
   "metadata": {},
   "outputs": [
    {
     "data": {
      "text/plain": [
       "0"
      ]
     },
     "execution_count": 203,
     "metadata": {},
     "output_type": "execute_result"
    }
   ],
   "source": [
    "# check for duplicate tweet_ids\n",
    "twitter_enhanced[twitter_enhanced.tweet_id.duplicated() == True].tweet_id.count()"
   ]
  },
  {
   "cell_type": "code",
   "execution_count": 204,
   "metadata": {},
   "outputs": [
    {
     "data": {
      "text/html": [
       "<div>\n",
       "<style scoped>\n",
       "    .dataframe tbody tr th:only-of-type {\n",
       "        vertical-align: middle;\n",
       "    }\n",
       "\n",
       "    .dataframe tbody tr th {\n",
       "        vertical-align: top;\n",
       "    }\n",
       "\n",
       "    .dataframe thead th {\n",
       "        text-align: right;\n",
       "    }\n",
       "</style>\n",
       "<table border=\"1\" class=\"dataframe\">\n",
       "  <thead>\n",
       "    <tr style=\"text-align: right;\">\n",
       "      <th></th>\n",
       "      <th>tweet_id</th>\n",
       "      <th>in_reply_to_status_id</th>\n",
       "      <th>in_reply_to_user_id</th>\n",
       "      <th>timestamp</th>\n",
       "      <th>source</th>\n",
       "      <th>text</th>\n",
       "      <th>retweeted_status_id</th>\n",
       "      <th>retweeted_status_user_id</th>\n",
       "      <th>retweeted_status_timestamp</th>\n",
       "      <th>expanded_urls</th>\n",
       "      <th>rating_numerator</th>\n",
       "      <th>rating_denominator</th>\n",
       "      <th>name</th>\n",
       "      <th>doggo</th>\n",
       "      <th>floofer</th>\n",
       "      <th>pupper</th>\n",
       "      <th>puppo</th>\n",
       "    </tr>\n",
       "  </thead>\n",
       "  <tbody>\n",
       "    <tr>\n",
       "      <th>19</th>\n",
       "      <td>888202515573088257</td>\n",
       "      <td>NaN</td>\n",
       "      <td>NaN</td>\n",
       "      <td>2017-07-21 01:02:36 +0000</td>\n",
       "      <td>&lt;a href=\"http://twitter.com/download/iphone\" r...</td>\n",
       "      <td>RT @dog_rates: This is Canela. She attempted s...</td>\n",
       "      <td>8.874740e+17</td>\n",
       "      <td>4.196984e+09</td>\n",
       "      <td>2017-07-19 00:47:34 +0000</td>\n",
       "      <td>https://twitter.com/dog_rates/status/887473957...</td>\n",
       "      <td>13</td>\n",
       "      <td>10</td>\n",
       "      <td>Canela</td>\n",
       "      <td>None</td>\n",
       "      <td>None</td>\n",
       "      <td>None</td>\n",
       "      <td>None</td>\n",
       "    </tr>\n",
       "    <tr>\n",
       "      <th>32</th>\n",
       "      <td>886054160059072513</td>\n",
       "      <td>NaN</td>\n",
       "      <td>NaN</td>\n",
       "      <td>2017-07-15 02:45:48 +0000</td>\n",
       "      <td>&lt;a href=\"http://twitter.com/download/iphone\" r...</td>\n",
       "      <td>RT @Athletics: 12/10 #BATP https://t.co/WxwJmv...</td>\n",
       "      <td>8.860537e+17</td>\n",
       "      <td>1.960740e+07</td>\n",
       "      <td>2017-07-15 02:44:07 +0000</td>\n",
       "      <td>https://twitter.com/dog_rates/status/886053434...</td>\n",
       "      <td>12</td>\n",
       "      <td>10</td>\n",
       "      <td>None</td>\n",
       "      <td>None</td>\n",
       "      <td>None</td>\n",
       "      <td>None</td>\n",
       "      <td>None</td>\n",
       "    </tr>\n",
       "    <tr>\n",
       "      <th>36</th>\n",
       "      <td>885311592912609280</td>\n",
       "      <td>NaN</td>\n",
       "      <td>NaN</td>\n",
       "      <td>2017-07-13 01:35:06 +0000</td>\n",
       "      <td>&lt;a href=\"http://twitter.com/download/iphone\" r...</td>\n",
       "      <td>RT @dog_rates: This is Lilly. She just paralle...</td>\n",
       "      <td>8.305833e+17</td>\n",
       "      <td>4.196984e+09</td>\n",
       "      <td>2017-02-12 01:04:29 +0000</td>\n",
       "      <td>https://twitter.com/dog_rates/status/830583320...</td>\n",
       "      <td>13</td>\n",
       "      <td>10</td>\n",
       "      <td>Lilly</td>\n",
       "      <td>None</td>\n",
       "      <td>None</td>\n",
       "      <td>None</td>\n",
       "      <td>None</td>\n",
       "    </tr>\n",
       "    <tr>\n",
       "      <th>68</th>\n",
       "      <td>879130579576475649</td>\n",
       "      <td>NaN</td>\n",
       "      <td>NaN</td>\n",
       "      <td>2017-06-26 00:13:58 +0000</td>\n",
       "      <td>&lt;a href=\"http://twitter.com/download/iphone\" r...</td>\n",
       "      <td>RT @dog_rates: This is Emmy. She was adopted t...</td>\n",
       "      <td>8.780576e+17</td>\n",
       "      <td>4.196984e+09</td>\n",
       "      <td>2017-06-23 01:10:23 +0000</td>\n",
       "      <td>https://twitter.com/dog_rates/status/878057613...</td>\n",
       "      <td>14</td>\n",
       "      <td>10</td>\n",
       "      <td>Emmy</td>\n",
       "      <td>None</td>\n",
       "      <td>None</td>\n",
       "      <td>None</td>\n",
       "      <td>None</td>\n",
       "    </tr>\n",
       "    <tr>\n",
       "      <th>73</th>\n",
       "      <td>878404777348136964</td>\n",
       "      <td>NaN</td>\n",
       "      <td>NaN</td>\n",
       "      <td>2017-06-24 00:09:53 +0000</td>\n",
       "      <td>&lt;a href=\"http://twitter.com/download/iphone\" r...</td>\n",
       "      <td>RT @dog_rates: Meet Shadow. In an attempt to r...</td>\n",
       "      <td>8.782815e+17</td>\n",
       "      <td>4.196984e+09</td>\n",
       "      <td>2017-06-23 16:00:04 +0000</td>\n",
       "      <td>https://www.gofundme.com/3yd6y1c,https://twitt...</td>\n",
       "      <td>13</td>\n",
       "      <td>10</td>\n",
       "      <td>Shadow</td>\n",
       "      <td>None</td>\n",
       "      <td>None</td>\n",
       "      <td>None</td>\n",
       "      <td>None</td>\n",
       "    </tr>\n",
       "  </tbody>\n",
       "</table>\n",
       "</div>"
      ],
      "text/plain": [
       "              tweet_id  in_reply_to_status_id  in_reply_to_user_id  \\\n",
       "19  888202515573088257                    NaN                  NaN   \n",
       "32  886054160059072513                    NaN                  NaN   \n",
       "36  885311592912609280                    NaN                  NaN   \n",
       "68  879130579576475649                    NaN                  NaN   \n",
       "73  878404777348136964                    NaN                  NaN   \n",
       "\n",
       "                    timestamp  \\\n",
       "19  2017-07-21 01:02:36 +0000   \n",
       "32  2017-07-15 02:45:48 +0000   \n",
       "36  2017-07-13 01:35:06 +0000   \n",
       "68  2017-06-26 00:13:58 +0000   \n",
       "73  2017-06-24 00:09:53 +0000   \n",
       "\n",
       "                                               source  \\\n",
       "19  <a href=\"http://twitter.com/download/iphone\" r...   \n",
       "32  <a href=\"http://twitter.com/download/iphone\" r...   \n",
       "36  <a href=\"http://twitter.com/download/iphone\" r...   \n",
       "68  <a href=\"http://twitter.com/download/iphone\" r...   \n",
       "73  <a href=\"http://twitter.com/download/iphone\" r...   \n",
       "\n",
       "                                                 text  retweeted_status_id  \\\n",
       "19  RT @dog_rates: This is Canela. She attempted s...         8.874740e+17   \n",
       "32  RT @Athletics: 12/10 #BATP https://t.co/WxwJmv...         8.860537e+17   \n",
       "36  RT @dog_rates: This is Lilly. She just paralle...         8.305833e+17   \n",
       "68  RT @dog_rates: This is Emmy. She was adopted t...         8.780576e+17   \n",
       "73  RT @dog_rates: Meet Shadow. In an attempt to r...         8.782815e+17   \n",
       "\n",
       "    retweeted_status_user_id retweeted_status_timestamp  \\\n",
       "19              4.196984e+09  2017-07-19 00:47:34 +0000   \n",
       "32              1.960740e+07  2017-07-15 02:44:07 +0000   \n",
       "36              4.196984e+09  2017-02-12 01:04:29 +0000   \n",
       "68              4.196984e+09  2017-06-23 01:10:23 +0000   \n",
       "73              4.196984e+09  2017-06-23 16:00:04 +0000   \n",
       "\n",
       "                                        expanded_urls  rating_numerator  \\\n",
       "19  https://twitter.com/dog_rates/status/887473957...                13   \n",
       "32  https://twitter.com/dog_rates/status/886053434...                12   \n",
       "36  https://twitter.com/dog_rates/status/830583320...                13   \n",
       "68  https://twitter.com/dog_rates/status/878057613...                14   \n",
       "73  https://www.gofundme.com/3yd6y1c,https://twitt...                13   \n",
       "\n",
       "    rating_denominator    name doggo floofer pupper puppo  \n",
       "19                  10  Canela  None    None   None  None  \n",
       "32                  10    None  None    None   None  None  \n",
       "36                  10   Lilly  None    None   None  None  \n",
       "68                  10    Emmy  None    None   None  None  \n",
       "73                  10  Shadow  None    None   None  None  "
      ]
     },
     "execution_count": 204,
     "metadata": {},
     "output_type": "execute_result"
    }
   ],
   "source": [
    "#check for retweets\n",
    "retweets = twitter_enhanced[twitter_enhanced.retweeted_status_id.isnull() == False]\n",
    "retweets.head()"
   ]
  },
  {
   "cell_type": "markdown",
   "metadata": {},
   "source": [
    "#### Issue 1/2\n",
    "<a id='issue_1'></a>"
   ]
  },
  {
   "cell_type": "code",
   "execution_count": 205,
   "metadata": {
    "collapsed": true
   },
   "outputs": [],
   "source": [
    "#create copy of datatset\n",
    "twitter_enhanced_clean = twitter_enhanced.copy()"
   ]
  },
  {
   "cell_type": "code",
   "execution_count": 206,
   "metadata": {},
   "outputs": [
    {
     "name": "stdout",
     "output_type": "stream",
     "text": [
      "<class 'pandas.core.frame.DataFrame'>\n",
      "Int64Index: 2175 entries, 0 to 2355\n",
      "Data columns (total 17 columns):\n",
      "tweet_id                      2175 non-null int64\n",
      "in_reply_to_status_id         78 non-null float64\n",
      "in_reply_to_user_id           78 non-null float64\n",
      "timestamp                     2175 non-null object\n",
      "source                        2175 non-null object\n",
      "text                          2175 non-null object\n",
      "retweeted_status_id           0 non-null float64\n",
      "retweeted_status_user_id      0 non-null float64\n",
      "retweeted_status_timestamp    0 non-null object\n",
      "expanded_urls                 2117 non-null object\n",
      "rating_numerator              2175 non-null int64\n",
      "rating_denominator            2175 non-null int64\n",
      "name                          2175 non-null object\n",
      "doggo                         2175 non-null object\n",
      "floofer                       2175 non-null object\n",
      "pupper                        2175 non-null object\n",
      "puppo                         2175 non-null object\n",
      "dtypes: float64(4), int64(3), object(10)\n",
      "memory usage: 305.9+ KB\n"
     ]
    }
   ],
   "source": [
    "#remove retweets\n",
    "twitter_enhanced_clean = twitter_enhanced_clean[twitter_enhanced_clean.retweeted_status_id.isnull()]\n",
    "twitter_enhanced_clean.info()"
   ]
  },
  {
   "cell_type": "code",
   "execution_count": 207,
   "metadata": {},
   "outputs": [
    {
     "name": "stdout",
     "output_type": "stream",
     "text": [
      "<class 'pandas.core.frame.DataFrame'>\n",
      "Int64Index: 2097 entries, 0 to 2355\n",
      "Data columns (total 17 columns):\n",
      "tweet_id                      2097 non-null int64\n",
      "in_reply_to_status_id         0 non-null float64\n",
      "in_reply_to_user_id           0 non-null float64\n",
      "timestamp                     2097 non-null object\n",
      "source                        2097 non-null object\n",
      "text                          2097 non-null object\n",
      "retweeted_status_id           0 non-null float64\n",
      "retweeted_status_user_id      0 non-null float64\n",
      "retweeted_status_timestamp    0 non-null object\n",
      "expanded_urls                 2094 non-null object\n",
      "rating_numerator              2097 non-null int64\n",
      "rating_denominator            2097 non-null int64\n",
      "name                          2097 non-null object\n",
      "doggo                         2097 non-null object\n",
      "floofer                       2097 non-null object\n",
      "pupper                        2097 non-null object\n",
      "puppo                         2097 non-null object\n",
      "dtypes: float64(4), int64(3), object(10)\n",
      "memory usage: 294.9+ KB\n"
     ]
    }
   ],
   "source": [
    "#remove reply tweets\n",
    "twitter_enhanced_clean = twitter_enhanced_clean[twitter_enhanced_clean.in_reply_to_status_id.isnull()]\n",
    "twitter_enhanced_clean.info()"
   ]
  },
  {
   "cell_type": "code",
   "execution_count": 208,
   "metadata": {
    "collapsed": true
   },
   "outputs": [],
   "source": [
    "#Instantiate tweepy object \n",
    "#key variables are declared in private python file, imported as twitter_keys\n",
    "auth = tw.OAuthHandler(api_key, api_secret)\n",
    "auth.set_access_token(access_token, access_secret)\n",
    "api = tw.API(auth, parser=tw.parsers.JSONParser())"
   ]
  },
  {
   "cell_type": "code",
   "execution_count": null,
   "metadata": {},
   "outputs": [],
   "source": [
    "#query API for tweet data \n",
    "#store only the data needed\n",
    "tweet_data = []\n",
    "exceptions = []\n",
    "i = 0\n",
    "for tweet_id in twitter_enhanced_clean['tweet_id']:\n",
    "    try:\n",
    "        tweet = api.get_status(tweet_id, tweet_mode='extended',\n",
    "                               wait_on_rate_limit = True,\n",
    "                               wait_on_rate_limit_notify = True)\n",
    "        date = tweet['created_at']\n",
    "        favourites = tweet['favorite_count']\n",
    "        retweets = tweet['retweet_count']\n",
    "        tweet_data.append({'tweet_id':int(tweet_id),\n",
    "                           'creation_date':pd.to_datetime(date),\n",
    "                           'favourites':int(favourites),\n",
    "                           'retweets':int(retweets)})\n",
    "    except Exception as e:\n",
    "        print(str(e) + str(tweet_id))\n",
    "        exceptions.append(tweet_id)"
   ]
  },
  {
   "cell_type": "code",
   "execution_count": 123,
   "metadata": {},
   "outputs": [
    {
     "ename": "NameError",
     "evalue": "name 'tweet_data' is not defined",
     "output_type": "error",
     "traceback": [
      "\u001b[0;31m---------------------------------------------------------------------------\u001b[0m",
      "\u001b[0;31mNameError\u001b[0m                                 Traceback (most recent call last)",
      "\u001b[0;32m<ipython-input-123-1a86d3b323eb>\u001b[0m in \u001b[0;36m<module>\u001b[0;34m()\u001b[0m\n\u001b[1;32m      1\u001b[0m \u001b[0;31m# Create dataframe and store result as csv file\u001b[0m\u001b[0;34m\u001b[0m\u001b[0;34m\u001b[0m\u001b[0;34m\u001b[0m\u001b[0m\n\u001b[0;32m----> 2\u001b[0;31m \u001b[0mtweets\u001b[0m \u001b[0;34m=\u001b[0m \u001b[0mpd\u001b[0m\u001b[0;34m.\u001b[0m\u001b[0mDataFrame\u001b[0m\u001b[0;34m(\u001b[0m\u001b[0mtweet_data\u001b[0m\u001b[0;34m)\u001b[0m\u001b[0;34m\u001b[0m\u001b[0;34m\u001b[0m\u001b[0m\n\u001b[0m\u001b[1;32m      3\u001b[0m \u001b[0mtweets\u001b[0m\u001b[0;34m.\u001b[0m\u001b[0mto_json\u001b[0m\u001b[0;34m(\u001b[0m\u001b[0;34m'tweet_json.txt'\u001b[0m\u001b[0;34m,\u001b[0m \u001b[0morient\u001b[0m\u001b[0;34m=\u001b[0m\u001b[0;34m'columns'\u001b[0m\u001b[0;34m)\u001b[0m\u001b[0;34m\u001b[0m\u001b[0;34m\u001b[0m\u001b[0m\n",
      "\u001b[0;31mNameError\u001b[0m: name 'tweet_data' is not defined"
     ]
    }
   ],
   "source": [
    "# Create dataframe and store result as csv file\n",
    "tweets = pd.DataFrame(tweet_data)\n",
    "tweets.to_json('tweet_json.txt', orient='columns')"
   ]
  },
  {
   "cell_type": "code",
   "execution_count": 209,
   "metadata": {},
   "outputs": [
    {
     "name": "stdout",
     "output_type": "stream",
     "text": [
      "<class 'pandas.core.frame.DataFrame'>\n",
      "Int64Index: 2090 entries, 0 to 999\n",
      "Data columns (total 4 columns):\n",
      "creation_date    2090 non-null int64\n",
      "favourites       2090 non-null int64\n",
      "retweets         2090 non-null int64\n",
      "tweet_id         2090 non-null int64\n",
      "dtypes: int64(4)\n",
      "memory usage: 81.6 KB\n"
     ]
    }
   ],
   "source": [
    "#json file seems to be saving datetime as epoch time in milliseconds\n",
    "tweets = pd.read_json('tweet_json.txt')\n",
    "tweets.info()"
   ]
  },
  {
   "cell_type": "code",
   "execution_count": 210,
   "metadata": {},
   "outputs": [
    {
     "data": {
      "text/html": [
       "<div>\n",
       "<style scoped>\n",
       "    .dataframe tbody tr th:only-of-type {\n",
       "        vertical-align: middle;\n",
       "    }\n",
       "\n",
       "    .dataframe tbody tr th {\n",
       "        vertical-align: top;\n",
       "    }\n",
       "\n",
       "    .dataframe thead th {\n",
       "        text-align: right;\n",
       "    }\n",
       "</style>\n",
       "<table border=\"1\" class=\"dataframe\">\n",
       "  <thead>\n",
       "    <tr style=\"text-align: right;\">\n",
       "      <th></th>\n",
       "      <th>creation_date</th>\n",
       "      <th>favourites</th>\n",
       "      <th>retweets</th>\n",
       "      <th>tweet_id</th>\n",
       "    </tr>\n",
       "  </thead>\n",
       "  <tbody>\n",
       "    <tr>\n",
       "      <th>0</th>\n",
       "      <td>1501604636000</td>\n",
       "      <td>36398</td>\n",
       "      <td>7741</td>\n",
       "      <td>892420643555336193</td>\n",
       "    </tr>\n",
       "    <tr>\n",
       "      <th>1</th>\n",
       "      <td>1501546647000</td>\n",
       "      <td>31348</td>\n",
       "      <td>5735</td>\n",
       "      <td>892177421306343426</td>\n",
       "    </tr>\n",
       "    <tr>\n",
       "      <th>10</th>\n",
       "      <td>1501029085000</td>\n",
       "      <td>28900</td>\n",
       "      <td>6729</td>\n",
       "      <td>890006608113172480</td>\n",
       "    </tr>\n",
       "    <tr>\n",
       "      <th>100</th>\n",
       "      <td>1496274205000</td>\n",
       "      <td>34798</td>\n",
       "      <td>7753</td>\n",
       "      <td>870063196459192321</td>\n",
       "    </tr>\n",
       "    <tr>\n",
       "      <th>1000</th>\n",
       "      <td>1459125823000</td>\n",
       "      <td>3280</td>\n",
       "      <td>829</td>\n",
       "      <td>714251586676113411</td>\n",
       "    </tr>\n",
       "  </tbody>\n",
       "</table>\n",
       "</div>"
      ],
      "text/plain": [
       "      creation_date  favourites  retweets            tweet_id\n",
       "0     1501604636000       36398      7741  892420643555336193\n",
       "1     1501546647000       31348      5735  892177421306343426\n",
       "10    1501029085000       28900      6729  890006608113172480\n",
       "100   1496274205000       34798      7753  870063196459192321\n",
       "1000  1459125823000        3280       829  714251586676113411"
      ]
     },
     "execution_count": 210,
     "metadata": {},
     "output_type": "execute_result"
    }
   ],
   "source": [
    "tweets.head()"
   ]
  },
  {
   "cell_type": "code",
   "execution_count": 211,
   "metadata": {},
   "outputs": [
    {
     "name": "stdout",
     "output_type": "stream",
     "text": [
      "<class 'pandas.core.frame.DataFrame'>\n",
      "RangeIndex: 2090 entries, 0 to 2089\n",
      "Data columns (total 4 columns):\n",
      "creation_date    2090 non-null datetime64[ns]\n",
      "favourites       2090 non-null int64\n",
      "retweets         2090 non-null int64\n",
      "tweet_id         2090 non-null int64\n",
      "dtypes: datetime64[ns](1), int64(3)\n",
      "memory usage: 65.4 KB\n"
     ]
    }
   ],
   "source": [
    "#json file seems to be saving datetime as epoch time in milliseconds\n",
    "#index is also messed up \n",
    "tweets.creation_date = pd.to_datetime(tweets.creation_date, unit='ms')\n",
    "tweets.reset_index(drop=True, inplace=True)\n",
    "tweets.info()"
   ]
  },
  {
   "cell_type": "code",
   "execution_count": 212,
   "metadata": {},
   "outputs": [
    {
     "data": {
      "text/html": [
       "<div>\n",
       "<style scoped>\n",
       "    .dataframe tbody tr th:only-of-type {\n",
       "        vertical-align: middle;\n",
       "    }\n",
       "\n",
       "    .dataframe tbody tr th {\n",
       "        vertical-align: top;\n",
       "    }\n",
       "\n",
       "    .dataframe thead th {\n",
       "        text-align: right;\n",
       "    }\n",
       "</style>\n",
       "<table border=\"1\" class=\"dataframe\">\n",
       "  <thead>\n",
       "    <tr style=\"text-align: right;\">\n",
       "      <th></th>\n",
       "      <th>creation_date</th>\n",
       "      <th>favourites</th>\n",
       "      <th>retweets</th>\n",
       "      <th>tweet_id</th>\n",
       "    </tr>\n",
       "  </thead>\n",
       "  <tbody>\n",
       "    <tr>\n",
       "      <th>0</th>\n",
       "      <td>2017-08-01 16:23:56</td>\n",
       "      <td>36398</td>\n",
       "      <td>7741</td>\n",
       "      <td>892420643555336193</td>\n",
       "    </tr>\n",
       "    <tr>\n",
       "      <th>1</th>\n",
       "      <td>2017-08-01 00:17:27</td>\n",
       "      <td>31348</td>\n",
       "      <td>5735</td>\n",
       "      <td>892177421306343426</td>\n",
       "    </tr>\n",
       "    <tr>\n",
       "      <th>2</th>\n",
       "      <td>2017-07-26 00:31:25</td>\n",
       "      <td>28900</td>\n",
       "      <td>6729</td>\n",
       "      <td>890006608113172480</td>\n",
       "    </tr>\n",
       "    <tr>\n",
       "      <th>3</th>\n",
       "      <td>2017-05-31 23:43:25</td>\n",
       "      <td>34798</td>\n",
       "      <td>7753</td>\n",
       "      <td>870063196459192321</td>\n",
       "    </tr>\n",
       "    <tr>\n",
       "      <th>4</th>\n",
       "      <td>2016-03-28 00:43:43</td>\n",
       "      <td>3280</td>\n",
       "      <td>829</td>\n",
       "      <td>714251586676113411</td>\n",
       "    </tr>\n",
       "  </tbody>\n",
       "</table>\n",
       "</div>"
      ],
      "text/plain": [
       "        creation_date  favourites  retweets            tweet_id\n",
       "0 2017-08-01 16:23:56       36398      7741  892420643555336193\n",
       "1 2017-08-01 00:17:27       31348      5735  892177421306343426\n",
       "2 2017-07-26 00:31:25       28900      6729  890006608113172480\n",
       "3 2017-05-31 23:43:25       34798      7753  870063196459192321\n",
       "4 2016-03-28 00:43:43        3280       829  714251586676113411"
      ]
     },
     "execution_count": 212,
     "metadata": {},
     "output_type": "execute_result"
    }
   ],
   "source": [
    "tweets.head()"
   ]
  },
  {
   "cell_type": "code",
   "execution_count": 213,
   "metadata": {},
   "outputs": [
    {
     "data": {
      "text/plain": [
       "0"
      ]
     },
     "execution_count": 213,
     "metadata": {},
     "output_type": "execute_result"
    }
   ],
   "source": [
    "tweets[tweets.tweet_id.duplicated() == True].tweet_id.count()"
   ]
  },
  {
   "cell_type": "code",
   "execution_count": 214,
   "metadata": {
    "collapsed": true
   },
   "outputs": [],
   "source": [
    "#scrape image_predictions.tsv file from Udacity site \n",
    "url = \"https://d17h27t6h515a5.cloudfront.net/topher/2017/August/599fd2ad_image-predictions/image-predictions.tsv\"\n",
    "response = requests.get(url)\n",
    "\n",
    "#write to file \n",
    "with open(os.path.join('image_predictions.tsv'), mode = 'wb') as file:\n",
    "    file.write(response.content)"
   ]
  },
  {
   "cell_type": "code",
   "execution_count": 215,
   "metadata": {
    "collapsed": true
   },
   "outputs": [],
   "source": [
    "#load image_predictions - tsv format \n",
    "image_predictions = pd.read_csv('image_predictions.tsv', sep='\\t')"
   ]
  },
  {
   "cell_type": "code",
   "execution_count": 216,
   "metadata": {},
   "outputs": [
    {
     "data": {
      "text/html": [
       "<div>\n",
       "<style scoped>\n",
       "    .dataframe tbody tr th:only-of-type {\n",
       "        vertical-align: middle;\n",
       "    }\n",
       "\n",
       "    .dataframe tbody tr th {\n",
       "        vertical-align: top;\n",
       "    }\n",
       "\n",
       "    .dataframe thead th {\n",
       "        text-align: right;\n",
       "    }\n",
       "</style>\n",
       "<table border=\"1\" class=\"dataframe\">\n",
       "  <thead>\n",
       "    <tr style=\"text-align: right;\">\n",
       "      <th></th>\n",
       "      <th>tweet_id</th>\n",
       "      <th>jpg_url</th>\n",
       "      <th>img_num</th>\n",
       "      <th>p1</th>\n",
       "      <th>p1_conf</th>\n",
       "      <th>p1_dog</th>\n",
       "      <th>p2</th>\n",
       "      <th>p2_conf</th>\n",
       "      <th>p2_dog</th>\n",
       "      <th>p3</th>\n",
       "      <th>p3_conf</th>\n",
       "      <th>p3_dog</th>\n",
       "    </tr>\n",
       "  </thead>\n",
       "  <tbody>\n",
       "    <tr>\n",
       "      <th>0</th>\n",
       "      <td>666020888022790149</td>\n",
       "      <td>https://pbs.twimg.com/media/CT4udn0WwAA0aMy.jpg</td>\n",
       "      <td>1</td>\n",
       "      <td>Welsh_springer_spaniel</td>\n",
       "      <td>0.465074</td>\n",
       "      <td>True</td>\n",
       "      <td>collie</td>\n",
       "      <td>0.156665</td>\n",
       "      <td>True</td>\n",
       "      <td>Shetland_sheepdog</td>\n",
       "      <td>0.061428</td>\n",
       "      <td>True</td>\n",
       "    </tr>\n",
       "  </tbody>\n",
       "</table>\n",
       "</div>"
      ],
      "text/plain": [
       "             tweet_id                                          jpg_url  \\\n",
       "0  666020888022790149  https://pbs.twimg.com/media/CT4udn0WwAA0aMy.jpg   \n",
       "\n",
       "   img_num                      p1   p1_conf  p1_dog      p2   p2_conf  \\\n",
       "0        1  Welsh_springer_spaniel  0.465074    True  collie  0.156665   \n",
       "\n",
       "   p2_dog                 p3   p3_conf  p3_dog  \n",
       "0    True  Shetland_sheepdog  0.061428    True  "
      ]
     },
     "execution_count": 216,
     "metadata": {},
     "output_type": "execute_result"
    }
   ],
   "source": [
    "image_predictions.head(1)"
   ]
  },
  {
   "cell_type": "code",
   "execution_count": 217,
   "metadata": {},
   "outputs": [
    {
     "data": {
      "text/html": [
       "<div>\n",
       "<style scoped>\n",
       "    .dataframe tbody tr th:only-of-type {\n",
       "        vertical-align: middle;\n",
       "    }\n",
       "\n",
       "    .dataframe tbody tr th {\n",
       "        vertical-align: top;\n",
       "    }\n",
       "\n",
       "    .dataframe thead th {\n",
       "        text-align: right;\n",
       "    }\n",
       "</style>\n",
       "<table border=\"1\" class=\"dataframe\">\n",
       "  <thead>\n",
       "    <tr style=\"text-align: right;\">\n",
       "      <th></th>\n",
       "      <th>tweet_id</th>\n",
       "      <th>in_reply_to_status_id</th>\n",
       "      <th>in_reply_to_user_id</th>\n",
       "      <th>retweeted_status_id</th>\n",
       "      <th>retweeted_status_user_id</th>\n",
       "      <th>rating_numerator</th>\n",
       "      <th>rating_denominator</th>\n",
       "    </tr>\n",
       "  </thead>\n",
       "  <tbody>\n",
       "    <tr>\n",
       "      <th>count</th>\n",
       "      <td>2.097000e+03</td>\n",
       "      <td>0.0</td>\n",
       "      <td>0.0</td>\n",
       "      <td>0.0</td>\n",
       "      <td>0.0</td>\n",
       "      <td>2097.000000</td>\n",
       "      <td>2097.000000</td>\n",
       "    </tr>\n",
       "    <tr>\n",
       "      <th>mean</th>\n",
       "      <td>7.365594e+17</td>\n",
       "      <td>NaN</td>\n",
       "      <td>NaN</td>\n",
       "      <td>NaN</td>\n",
       "      <td>NaN</td>\n",
       "      <td>12.189318</td>\n",
       "      <td>10.448736</td>\n",
       "    </tr>\n",
       "    <tr>\n",
       "      <th>std</th>\n",
       "      <td>6.710178e+16</td>\n",
       "      <td>NaN</td>\n",
       "      <td>NaN</td>\n",
       "      <td>NaN</td>\n",
       "      <td>NaN</td>\n",
       "      <td>40.364996</td>\n",
       "      <td>6.645061</td>\n",
       "    </tr>\n",
       "    <tr>\n",
       "      <th>min</th>\n",
       "      <td>6.660209e+17</td>\n",
       "      <td>NaN</td>\n",
       "      <td>NaN</td>\n",
       "      <td>NaN</td>\n",
       "      <td>NaN</td>\n",
       "      <td>0.000000</td>\n",
       "      <td>2.000000</td>\n",
       "    </tr>\n",
       "    <tr>\n",
       "      <th>25%</th>\n",
       "      <td>6.768197e+17</td>\n",
       "      <td>NaN</td>\n",
       "      <td>NaN</td>\n",
       "      <td>NaN</td>\n",
       "      <td>NaN</td>\n",
       "      <td>10.000000</td>\n",
       "      <td>10.000000</td>\n",
       "    </tr>\n",
       "    <tr>\n",
       "      <th>50%</th>\n",
       "      <td>7.098528e+17</td>\n",
       "      <td>NaN</td>\n",
       "      <td>NaN</td>\n",
       "      <td>NaN</td>\n",
       "      <td>NaN</td>\n",
       "      <td>11.000000</td>\n",
       "      <td>10.000000</td>\n",
       "    </tr>\n",
       "    <tr>\n",
       "      <th>75%</th>\n",
       "      <td>7.877176e+17</td>\n",
       "      <td>NaN</td>\n",
       "      <td>NaN</td>\n",
       "      <td>NaN</td>\n",
       "      <td>NaN</td>\n",
       "      <td>12.000000</td>\n",
       "      <td>10.000000</td>\n",
       "    </tr>\n",
       "    <tr>\n",
       "      <th>max</th>\n",
       "      <td>8.924206e+17</td>\n",
       "      <td>NaN</td>\n",
       "      <td>NaN</td>\n",
       "      <td>NaN</td>\n",
       "      <td>NaN</td>\n",
       "      <td>1776.000000</td>\n",
       "      <td>170.000000</td>\n",
       "    </tr>\n",
       "  </tbody>\n",
       "</table>\n",
       "</div>"
      ],
      "text/plain": [
       "           tweet_id  in_reply_to_status_id  in_reply_to_user_id  \\\n",
       "count  2.097000e+03                    0.0                  0.0   \n",
       "mean   7.365594e+17                    NaN                  NaN   \n",
       "std    6.710178e+16                    NaN                  NaN   \n",
       "min    6.660209e+17                    NaN                  NaN   \n",
       "25%    6.768197e+17                    NaN                  NaN   \n",
       "50%    7.098528e+17                    NaN                  NaN   \n",
       "75%    7.877176e+17                    NaN                  NaN   \n",
       "max    8.924206e+17                    NaN                  NaN   \n",
       "\n",
       "       retweeted_status_id  retweeted_status_user_id  rating_numerator  \\\n",
       "count                  0.0                       0.0       2097.000000   \n",
       "mean                   NaN                       NaN         12.189318   \n",
       "std                    NaN                       NaN         40.364996   \n",
       "min                    NaN                       NaN          0.000000   \n",
       "25%                    NaN                       NaN         10.000000   \n",
       "50%                    NaN                       NaN         11.000000   \n",
       "75%                    NaN                       NaN         12.000000   \n",
       "max                    NaN                       NaN       1776.000000   \n",
       "\n",
       "       rating_denominator  \n",
       "count         2097.000000  \n",
       "mean            10.448736  \n",
       "std              6.645061  \n",
       "min              2.000000  \n",
       "25%             10.000000  \n",
       "50%             10.000000  \n",
       "75%             10.000000  \n",
       "max            170.000000  "
      ]
     },
     "execution_count": 217,
     "metadata": {},
     "output_type": "execute_result"
    }
   ],
   "source": [
    "twitter_enhanced_clean.describe()"
   ]
  },
  {
   "cell_type": "code",
   "execution_count": 218,
   "metadata": {},
   "outputs": [
    {
     "data": {
      "text/plain": [
       "None        603\n",
       "a            55\n",
       "Charlie      11\n",
       "Lucy         11\n",
       "Cooper       10\n",
       "Oliver       10\n",
       "Penny         9\n",
       "Tucker        9\n",
       "Lola          8\n",
       "the           8\n",
       "Winston       8\n",
       "Sadie         8\n",
       "Toby          7\n",
       "Daisy         7\n",
       "Koda          6\n",
       "Bella         6\n",
       "an            6\n",
       "Bo            6\n",
       "Stanley       6\n",
       "Bailey        6\n",
       "Oscar         6\n",
       "Jax           6\n",
       "Leo           5\n",
       "Bentley       5\n",
       "Dave          5\n",
       "Scout         5\n",
       "Chester       5\n",
       "Buddy         5\n",
       "Milo          5\n",
       "Louis         5\n",
       "           ... \n",
       "Ashleigh      1\n",
       "Rudy          1\n",
       "Berb          1\n",
       "Jessiga       1\n",
       "Sky           1\n",
       "Kody          1\n",
       "Gin           1\n",
       "Fletcher      1\n",
       "Ruffles       1\n",
       "Izzy          1\n",
       "Reptar        1\n",
       "Jiminus       1\n",
       "Maya          1\n",
       "Dudley        1\n",
       "Kendall       1\n",
       "Ken           1\n",
       "Kawhi         1\n",
       "Eugene        1\n",
       "Banjo         1\n",
       "Tonks         1\n",
       "Fynn          1\n",
       "Mary          1\n",
       "Einstein      1\n",
       "Chevy         1\n",
       "Aja           1\n",
       "Tupawc        1\n",
       "Rupert        1\n",
       "Mingus        1\n",
       "Evy           1\n",
       "Kevon         1\n",
       "Name: name, Length: 955, dtype: int64"
      ]
     },
     "execution_count": 218,
     "metadata": {},
     "output_type": "execute_result"
    }
   ],
   "source": [
    "twitter_enhanced_clean.name.value_counts()"
   ]
  },
  {
   "cell_type": "code",
   "execution_count": 219,
   "metadata": {},
   "outputs": [
    {
     "name": "stdout",
     "output_type": "stream",
     "text": [
      "<class 'pandas.core.frame.DataFrame'>\n",
      "RangeIndex: 2090 entries, 0 to 2089\n",
      "Data columns (total 4 columns):\n",
      "creation_date    2090 non-null datetime64[ns]\n",
      "favourites       2090 non-null int64\n",
      "retweets         2090 non-null int64\n",
      "tweet_id         2090 non-null int64\n",
      "dtypes: datetime64[ns](1), int64(3)\n",
      "memory usage: 65.4 KB\n"
     ]
    }
   ],
   "source": [
    "tweets.info()"
   ]
  },
  {
   "cell_type": "code",
   "execution_count": 220,
   "metadata": {},
   "outputs": [
    {
     "data": {
      "text/html": [
       "<div>\n",
       "<style scoped>\n",
       "    .dataframe tbody tr th:only-of-type {\n",
       "        vertical-align: middle;\n",
       "    }\n",
       "\n",
       "    .dataframe tbody tr th {\n",
       "        vertical-align: top;\n",
       "    }\n",
       "\n",
       "    .dataframe thead th {\n",
       "        text-align: right;\n",
       "    }\n",
       "</style>\n",
       "<table border=\"1\" class=\"dataframe\">\n",
       "  <thead>\n",
       "    <tr style=\"text-align: right;\">\n",
       "      <th></th>\n",
       "      <th>favourites</th>\n",
       "      <th>retweets</th>\n",
       "      <th>tweet_id</th>\n",
       "    </tr>\n",
       "  </thead>\n",
       "  <tbody>\n",
       "    <tr>\n",
       "      <th>count</th>\n",
       "      <td>2090.000000</td>\n",
       "      <td>2090.000000</td>\n",
       "      <td>2.090000e+03</td>\n",
       "    </tr>\n",
       "    <tr>\n",
       "      <th>mean</th>\n",
       "      <td>8393.688517</td>\n",
       "      <td>2536.132536</td>\n",
       "      <td>7.363484e+17</td>\n",
       "    </tr>\n",
       "    <tr>\n",
       "      <th>std</th>\n",
       "      <td>12194.900435</td>\n",
       "      <td>4441.547449</td>\n",
       "      <td>6.702051e+16</td>\n",
       "    </tr>\n",
       "    <tr>\n",
       "      <th>min</th>\n",
       "      <td>72.000000</td>\n",
       "      <td>11.000000</td>\n",
       "      <td>6.660209e+17</td>\n",
       "    </tr>\n",
       "    <tr>\n",
       "      <th>25%</th>\n",
       "      <td>1865.000000</td>\n",
       "      <td>560.500000</td>\n",
       "      <td>6.767853e+17</td>\n",
       "    </tr>\n",
       "    <tr>\n",
       "      <th>50%</th>\n",
       "      <td>3837.500000</td>\n",
       "      <td>1230.500000</td>\n",
       "      <td>7.095381e+17</td>\n",
       "    </tr>\n",
       "    <tr>\n",
       "      <th>75%</th>\n",
       "      <td>10473.000000</td>\n",
       "      <td>2882.000000</td>\n",
       "      <td>7.872326e+17</td>\n",
       "    </tr>\n",
       "    <tr>\n",
       "      <th>max</th>\n",
       "      <td>157142.000000</td>\n",
       "      <td>78286.000000</td>\n",
       "      <td>8.924206e+17</td>\n",
       "    </tr>\n",
       "  </tbody>\n",
       "</table>\n",
       "</div>"
      ],
      "text/plain": [
       "          favourites      retweets      tweet_id\n",
       "count    2090.000000   2090.000000  2.090000e+03\n",
       "mean     8393.688517   2536.132536  7.363484e+17\n",
       "std     12194.900435   4441.547449  6.702051e+16\n",
       "min        72.000000     11.000000  6.660209e+17\n",
       "25%      1865.000000    560.500000  6.767853e+17\n",
       "50%      3837.500000   1230.500000  7.095381e+17\n",
       "75%     10473.000000   2882.000000  7.872326e+17\n",
       "max    157142.000000  78286.000000  8.924206e+17"
      ]
     },
     "execution_count": 220,
     "metadata": {},
     "output_type": "execute_result"
    }
   ],
   "source": [
    "tweets.describe()"
   ]
  },
  {
   "cell_type": "code",
   "execution_count": 221,
   "metadata": {},
   "outputs": [
    {
     "data": {
      "text/html": [
       "<div>\n",
       "<style scoped>\n",
       "    .dataframe tbody tr th:only-of-type {\n",
       "        vertical-align: middle;\n",
       "    }\n",
       "\n",
       "    .dataframe tbody tr th {\n",
       "        vertical-align: top;\n",
       "    }\n",
       "\n",
       "    .dataframe thead th {\n",
       "        text-align: right;\n",
       "    }\n",
       "</style>\n",
       "<table border=\"1\" class=\"dataframe\">\n",
       "  <thead>\n",
       "    <tr style=\"text-align: right;\">\n",
       "      <th></th>\n",
       "      <th>tweet_id</th>\n",
       "      <th>jpg_url</th>\n",
       "      <th>img_num</th>\n",
       "      <th>p1</th>\n",
       "      <th>p1_conf</th>\n",
       "      <th>p1_dog</th>\n",
       "      <th>p2</th>\n",
       "      <th>p2_conf</th>\n",
       "      <th>p2_dog</th>\n",
       "      <th>p3</th>\n",
       "      <th>p3_conf</th>\n",
       "      <th>p3_dog</th>\n",
       "    </tr>\n",
       "  </thead>\n",
       "  <tbody>\n",
       "    <tr>\n",
       "      <th>0</th>\n",
       "      <td>666020888022790149</td>\n",
       "      <td>https://pbs.twimg.com/media/CT4udn0WwAA0aMy.jpg</td>\n",
       "      <td>1</td>\n",
       "      <td>Welsh_springer_spaniel</td>\n",
       "      <td>0.465074</td>\n",
       "      <td>True</td>\n",
       "      <td>collie</td>\n",
       "      <td>0.156665</td>\n",
       "      <td>True</td>\n",
       "      <td>Shetland_sheepdog</td>\n",
       "      <td>0.061428</td>\n",
       "      <td>True</td>\n",
       "    </tr>\n",
       "    <tr>\n",
       "      <th>1</th>\n",
       "      <td>666029285002620928</td>\n",
       "      <td>https://pbs.twimg.com/media/CT42GRgUYAA5iDo.jpg</td>\n",
       "      <td>1</td>\n",
       "      <td>redbone</td>\n",
       "      <td>0.506826</td>\n",
       "      <td>True</td>\n",
       "      <td>miniature_pinscher</td>\n",
       "      <td>0.074192</td>\n",
       "      <td>True</td>\n",
       "      <td>Rhodesian_ridgeback</td>\n",
       "      <td>0.072010</td>\n",
       "      <td>True</td>\n",
       "    </tr>\n",
       "    <tr>\n",
       "      <th>2</th>\n",
       "      <td>666033412701032449</td>\n",
       "      <td>https://pbs.twimg.com/media/CT4521TWwAEvMyu.jpg</td>\n",
       "      <td>1</td>\n",
       "      <td>German_shepherd</td>\n",
       "      <td>0.596461</td>\n",
       "      <td>True</td>\n",
       "      <td>malinois</td>\n",
       "      <td>0.138584</td>\n",
       "      <td>True</td>\n",
       "      <td>bloodhound</td>\n",
       "      <td>0.116197</td>\n",
       "      <td>True</td>\n",
       "    </tr>\n",
       "    <tr>\n",
       "      <th>3</th>\n",
       "      <td>666044226329800704</td>\n",
       "      <td>https://pbs.twimg.com/media/CT5Dr8HUEAA-lEu.jpg</td>\n",
       "      <td>1</td>\n",
       "      <td>Rhodesian_ridgeback</td>\n",
       "      <td>0.408143</td>\n",
       "      <td>True</td>\n",
       "      <td>redbone</td>\n",
       "      <td>0.360687</td>\n",
       "      <td>True</td>\n",
       "      <td>miniature_pinscher</td>\n",
       "      <td>0.222752</td>\n",
       "      <td>True</td>\n",
       "    </tr>\n",
       "    <tr>\n",
       "      <th>4</th>\n",
       "      <td>666049248165822465</td>\n",
       "      <td>https://pbs.twimg.com/media/CT5IQmsXIAAKY4A.jpg</td>\n",
       "      <td>1</td>\n",
       "      <td>miniature_pinscher</td>\n",
       "      <td>0.560311</td>\n",
       "      <td>True</td>\n",
       "      <td>Rottweiler</td>\n",
       "      <td>0.243682</td>\n",
       "      <td>True</td>\n",
       "      <td>Doberman</td>\n",
       "      <td>0.154629</td>\n",
       "      <td>True</td>\n",
       "    </tr>\n",
       "  </tbody>\n",
       "</table>\n",
       "</div>"
      ],
      "text/plain": [
       "             tweet_id                                          jpg_url  \\\n",
       "0  666020888022790149  https://pbs.twimg.com/media/CT4udn0WwAA0aMy.jpg   \n",
       "1  666029285002620928  https://pbs.twimg.com/media/CT42GRgUYAA5iDo.jpg   \n",
       "2  666033412701032449  https://pbs.twimg.com/media/CT4521TWwAEvMyu.jpg   \n",
       "3  666044226329800704  https://pbs.twimg.com/media/CT5Dr8HUEAA-lEu.jpg   \n",
       "4  666049248165822465  https://pbs.twimg.com/media/CT5IQmsXIAAKY4A.jpg   \n",
       "\n",
       "   img_num                      p1   p1_conf  p1_dog                  p2  \\\n",
       "0        1  Welsh_springer_spaniel  0.465074    True              collie   \n",
       "1        1                 redbone  0.506826    True  miniature_pinscher   \n",
       "2        1         German_shepherd  0.596461    True            malinois   \n",
       "3        1     Rhodesian_ridgeback  0.408143    True             redbone   \n",
       "4        1      miniature_pinscher  0.560311    True          Rottweiler   \n",
       "\n",
       "    p2_conf  p2_dog                   p3   p3_conf  p3_dog  \n",
       "0  0.156665    True    Shetland_sheepdog  0.061428    True  \n",
       "1  0.074192    True  Rhodesian_ridgeback  0.072010    True  \n",
       "2  0.138584    True           bloodhound  0.116197    True  \n",
       "3  0.360687    True   miniature_pinscher  0.222752    True  \n",
       "4  0.243682    True             Doberman  0.154629    True  "
      ]
     },
     "execution_count": 221,
     "metadata": {},
     "output_type": "execute_result"
    }
   ],
   "source": [
    "image_predictions.head()"
   ]
  },
  {
   "cell_type": "code",
   "execution_count": 222,
   "metadata": {},
   "outputs": [
    {
     "data": {
      "text/plain": [
       "https://pbs.twimg.com/media/CZhn-QAWwAASQan.jpg                                            2\n",
       "https://pbs.twimg.com/media/CkjMx99UoAM2B1a.jpg                                            2\n",
       "https://pbs.twimg.com/media/CcG07BYW0AErrC9.jpg                                            2\n",
       "https://pbs.twimg.com/media/CVgdFjNWEAAxmbq.jpg                                            2\n",
       "https://pbs.twimg.com/media/CvT6IV6WEAQhhV5.jpg                                            2\n",
       "https://pbs.twimg.com/media/CeRoBaxWEAABi0X.jpg                                            2\n",
       "https://pbs.twimg.com/ext_tw_video_thumb/675354114423808004/pu/img/qL1R_nGLqa6lmkOx.jpg    2\n",
       "https://pbs.twimg.com/media/CvJCabcWgAIoUxW.jpg                                            2\n",
       "https://pbs.twimg.com/media/CWza7kpWcAAdYLc.jpg                                            2\n",
       "https://pbs.twimg.com/media/Cwx99rpW8AMk_Ie.jpg                                            2\n",
       "https://pbs.twimg.com/media/CVMOlMiWwAA4Yxl.jpg                                            2\n",
       "https://pbs.twimg.com/ext_tw_video_thumb/815965888126062592/pu/img/JleSw4wRhgKDWQj5.jpg    2\n",
       "https://pbs.twimg.com/media/CpmyNumW8AAAJGj.jpg                                            2\n",
       "https://pbs.twimg.com/media/Ct2qO5PXEAE6eB0.jpg                                            2\n",
       "https://pbs.twimg.com/media/CtzKC7zXEAALfSo.jpg                                            2\n",
       "https://pbs.twimg.com/media/Cbs3DOAXIAAp3Bd.jpg                                            2\n",
       "https://pbs.twimg.com/media/Ck2d7tJWUAEPTL3.jpg                                            2\n",
       "https://pbs.twimg.com/media/Cq9guJ5WgAADfpF.jpg                                            2\n",
       "https://pbs.twimg.com/media/CsGnz64WYAEIDHJ.jpg                                            2\n",
       "https://pbs.twimg.com/media/CzG425nWgAAnP7P.jpg                                            2\n",
       "https://pbs.twimg.com/media/C4bTH6nWMAAX_bJ.jpg                                            2\n",
       "https://pbs.twimg.com/media/C4KHj-nWQAA3poV.jpg                                            2\n",
       "https://pbs.twimg.com/media/CU3mITUWIAAfyQS.jpg                                            2\n",
       "https://pbs.twimg.com/media/CmoPdmHW8AAi8BI.jpg                                            2\n",
       "https://pbs.twimg.com/media/DA7iHL5U0AA1OQo.jpg                                            2\n",
       "https://pbs.twimg.com/media/CwJR1okWIAA6XMp.jpg                                            2\n",
       "https://pbs.twimg.com/media/CU1zsMSUAAAS0qW.jpg                                            2\n",
       "https://pbs.twimg.com/media/CiibOMzUYAA9Mxz.jpg                                            2\n",
       "https://pbs.twimg.com/media/CkNjahBXAAQ2kWo.jpg                                            2\n",
       "https://pbs.twimg.com/media/CxqsX-8XUAAEvjD.jpg                                            2\n",
       "                                                                                          ..\n",
       "https://pbs.twimg.com/media/C-7OcfyXsAAsqzU.jpg                                            1\n",
       "https://pbs.twimg.com/media/CUopnHPVEAAcL2o.jpg                                            1\n",
       "https://pbs.twimg.com/media/CwI2XCvXEAEO8mc.jpg                                            1\n",
       "https://pbs.twimg.com/media/C2UpLA-UcAEK_Fz.jpg                                            1\n",
       "https://pbs.twimg.com/media/CUY60usWoAAdBxx.jpg                                            1\n",
       "https://pbs.twimg.com/media/ClqGl7fXIAA8nDe.jpg                                            1\n",
       "https://pbs.twimg.com/media/CXCh0QZW8AALdXm.jpg                                            1\n",
       "https://pbs.twimg.com/media/Ce14cOvWwAAcFJH.jpg                                            1\n",
       "https://pbs.twimg.com/media/CwYJBiHXgAQlvrh.jpg                                            1\n",
       "https://pbs.twimg.com/media/CgC1WqMW4AI1_N0.jpg                                            1\n",
       "https://pbs.twimg.com/media/DFMWn56WsAAkA7B.jpg                                            1\n",
       "https://pbs.twimg.com/media/C7UVuE_U0AI8GGl.jpg                                            1\n",
       "https://pbs.twimg.com/media/CUw3_QiUEAA8cT9.jpg                                            1\n",
       "https://pbs.twimg.com/media/CYuVi9pWwAAbOGC.jpg                                            1\n",
       "https://pbs.twimg.com/media/CU3P82RWEAAIVrE.jpg                                            1\n",
       "https://pbs.twimg.com/media/CeBMT6-WIAA7Qqf.jpg                                            1\n",
       "https://pbs.twimg.com/media/Cbixs3vUUAAqHHN.jpg                                            1\n",
       "https://pbs.twimg.com/media/CgwuWCeW4AAsgbD.jpg                                            1\n",
       "https://pbs.twimg.com/media/CUntin8WIAADmLk.jpg                                            1\n",
       "https://pbs.twimg.com/media/CUTDtyGXIAARxus.jpg                                            1\n",
       "https://pbs.twimg.com/media/CWnznDTU4AAa-6P.jpg                                            1\n",
       "https://pbs.twimg.com/media/CYF3TSlWMAAaoG5.jpg                                            1\n",
       "https://pbs.twimg.com/media/CT54YGiWUAEZnoK.jpg                                            1\n",
       "https://pbs.twimg.com/media/CcAhPevW8AAoknv.jpg                                            1\n",
       "https://pbs.twimg.com/media/C6atpTLWYAIL7bU.jpg                                            1\n",
       "https://pbs.twimg.com/media/CYka1NTWMAAOclP.jpg                                            1\n",
       "https://pbs.twimg.com/media/CVaQ0M4UsAAki3t.jpg                                            1\n",
       "https://pbs.twimg.com/media/Cl6odlVWQAIy5uk.jpg                                            1\n",
       "https://pbs.twimg.com/media/C5SXK89XUAQg7GX.jpg                                            1\n",
       "https://pbs.twimg.com/media/CU8ceuxWUAALMEo.jpg                                            1\n",
       "Name: jpg_url, Length: 2009, dtype: int64"
      ]
     },
     "execution_count": 222,
     "metadata": {},
     "output_type": "execute_result"
    }
   ],
   "source": [
    "image_predictions.jpg_url.value_counts()"
   ]
  },
  {
   "cell_type": "markdown",
   "metadata": {},
   "source": [
    "<a id='assessment'></a>\n",
    "# Assessment\n",
    "### Quality \n",
    "\n",
    "**twitter_enhanced Dataframe**\n",
    "\n",
    "  1. There are six columns missing values \n",
    "  2. Name column has None, a and the, appearing often as names. Further inspection excel confirms more cases\n",
    "  3. if numbers have a decimal, the whole numbers appear to be cut off\n",
    "  4. The 181 non-null retweet fields constitute non-original tweets in the dataset \n",
    "  5. reply columns respond to non-original tweets\n",
    "  6. timestamp fields are type object not datetime \n",
    "  7. source text is wrapped in html tags\n",
    "  \n",
    "**twitter API dataframe**\n",
    "\n",
    "  1. values are missing from several rows in the dataframe\n",
    "  2. There are less rows overall compared to the twitter_enhanced dataframe, presumably because they were unable to be retrieved from twitter's archive\n",
    "  3. tweet_id is an integer instead of a string\n",
    "  \n",
    "**image_prediction dataframe**\n",
    "  1. There appears to be duplicate url links for a number of images\n",
    "  2. Image predictions are in duplicate columns and should be reduced from 9 to 3 columns \n",
    "  3. image prediction should be a category datatype \n",
    "  \n",
    "### Tidiness \n",
    "**twitter_enhanced Dataframe**\n",
    "- retweet columns can be dropped as its non essential\n",
    "- 181 rows of retweets are non-required\n",
    "- reply columns are not required\n",
    "\n",
    "**twitter API dataframe**\n",
    "- there are fewer rows in this table than the twitter enhanced table.\n",
    "- only retweet count and favourite count are needed from this table, the rest can be dropped \n",
    "- dataframe needs to be merged with twitter_enhanced data\n",
    "\n",
    "**image predictions dataframe**\n",
    "- fewer rows than in twitter_enhanced dataframe\n",
    "- image_prediction dataframe needs to be merged with twitter_enhanced data"
   ]
  },
  {
   "cell_type": "markdown",
   "metadata": {},
   "source": [
    "<a id='cleaning'></a>\n",
    "# Cleaning"
   ]
  },
  {
   "cell_type": "markdown",
   "metadata": {},
   "source": [
    "### Quality issue 1/2 - removing rows that aren't original tweets\n",
    "\n",
    "<a href='#issue_1'>Issue 1/2</a>\n",
    "\n",
    "we cleaned the retweets and replies earlier from the twitter enhanced dataframe. Those columns can now be dropped"
   ]
  },
  {
   "cell_type": "code",
   "execution_count": 223,
   "metadata": {},
   "outputs": [
    {
     "name": "stdout",
     "output_type": "stream",
     "text": [
      "<class 'pandas.core.frame.DataFrame'>\n",
      "Int64Index: 2097 entries, 0 to 2355\n",
      "Data columns (total 17 columns):\n",
      "tweet_id                      2097 non-null int64\n",
      "in_reply_to_status_id         0 non-null float64\n",
      "in_reply_to_user_id           0 non-null float64\n",
      "timestamp                     2097 non-null object\n",
      "source                        2097 non-null object\n",
      "text                          2097 non-null object\n",
      "retweeted_status_id           0 non-null float64\n",
      "retweeted_status_user_id      0 non-null float64\n",
      "retweeted_status_timestamp    0 non-null object\n",
      "expanded_urls                 2094 non-null object\n",
      "rating_numerator              2097 non-null int64\n",
      "rating_denominator            2097 non-null int64\n",
      "name                          2097 non-null object\n",
      "doggo                         2097 non-null object\n",
      "floofer                       2097 non-null object\n",
      "pupper                        2097 non-null object\n",
      "puppo                         2097 non-null object\n",
      "dtypes: float64(4), int64(3), object(10)\n",
      "memory usage: 294.9+ KB\n"
     ]
    }
   ],
   "source": [
    "twitter_enhanced_clean.info()"
   ]
  },
  {
   "cell_type": "markdown",
   "metadata": {},
   "source": [
    "### Tidiness Issue 1 - dropping unrequired columns from twitter enhanced \n",
    "<a id='issue_9'></a>"
   ]
  },
  {
   "cell_type": "code",
   "execution_count": 224,
   "metadata": {},
   "outputs": [
    {
     "name": "stdout",
     "output_type": "stream",
     "text": [
      "<class 'pandas.core.frame.DataFrame'>\n",
      "RangeIndex: 2097 entries, 0 to 2096\n",
      "Data columns (total 11 columns):\n",
      "tweet_id              2097 non-null int64\n",
      "timestamp             2097 non-null object\n",
      "source                2097 non-null object\n",
      "text                  2097 non-null object\n",
      "rating_numerator      2097 non-null int64\n",
      "rating_denominator    2097 non-null int64\n",
      "name                  2097 non-null object\n",
      "doggo                 2097 non-null object\n",
      "floofer               2097 non-null object\n",
      "pupper                2097 non-null object\n",
      "puppo                 2097 non-null object\n",
      "dtypes: int64(3), object(8)\n",
      "memory usage: 180.3+ KB\n"
     ]
    }
   ],
   "source": [
    "#create copy of dataframe\n",
    "#drop unrequired columns from twitter_enhanced\n",
    "columns = ['in_reply_to_status_id','in_reply_to_user_id','retweeted_status_id','retweeted_status_user_id','retweeted_status_timestamp','expanded_urls']\n",
    "twitter_enhanced_clean.reset_index(drop=True, inplace=True)\n",
    "twitter_enhanced_clean.drop(columns, axis=1, inplace=True)\n",
    "twitter_enhanced_clean.info()"
   ]
  },
  {
   "cell_type": "code",
   "execution_count": 225,
   "metadata": {},
   "outputs": [
    {
     "data": {
      "text/plain": [
       "pupper      243\n",
       "doggo        78\n",
       "puppo        28\n",
       "multiple     12\n",
       "floofer       9\n",
       "Name: stage, dtype: int64"
      ]
     },
     "execution_count": 225,
     "metadata": {},
     "output_type": "execute_result"
    }
   ],
   "source": [
    "#Recompute dog stage values\n",
    "#mine tweet text for dog stages\n",
    "stages = []\n",
    "for text in twitter_enhanced_clean['text']:\n",
    "    stage = re.findall('(floofer|pupper|doggo|puppo|Floofer|Pupper|Doggo|Puppo)', text)\n",
    "    #reduces capitalised words to lowercase\n",
    "    stage = [x.lower() for x in stage]\n",
    "    #removes duplicates\n",
    "    stage = list(set(stage))\n",
    "    #if more than 1 stage, set stage to multiple\n",
    "    if len(stage) > 1:\n",
    "        stage = 'multiple'\n",
    "    else:\n",
    "        stage = ','.join(stage)\n",
    "    stages.append(stage)\n",
    "twitter_enhanced_clean['stage'] = stages\n",
    "twitter_enhanced_clean['stage'].replace('', np.nan, inplace=True)\n",
    "\n",
    "#test\n",
    "twitter_enhanced_clean['stage'].value_counts()"
   ]
  },
  {
   "cell_type": "code",
   "execution_count": 226,
   "metadata": {},
   "outputs": [],
   "source": [
    "#drop stage columns \n",
    "columns = ['doggo','floofer','pupper','puppo']\n",
    "twitter_enhanced_clean.drop(columns, axis=1, inplace=True)"
   ]
  },
  {
   "cell_type": "code",
   "execution_count": 227,
   "metadata": {},
   "outputs": [
    {
     "name": "stdout",
     "output_type": "stream",
     "text": [
      "<class 'pandas.core.frame.DataFrame'>\n",
      "RangeIndex: 2097 entries, 0 to 2096\n",
      "Data columns (total 8 columns):\n",
      "tweet_id              2097 non-null int64\n",
      "timestamp             2097 non-null object\n",
      "source                2097 non-null object\n",
      "text                  2097 non-null object\n",
      "rating_numerator      2097 non-null int64\n",
      "rating_denominator    2097 non-null int64\n",
      "name                  2097 non-null object\n",
      "stage                 370 non-null object\n",
      "dtypes: int64(3), object(5)\n",
      "memory usage: 131.1+ KB\n"
     ]
    }
   ],
   "source": [
    "#test\n",
    "twitter_enhanced_clean.info()"
   ]
  },
  {
   "cell_type": "markdown",
   "metadata": {},
   "source": [
    "### Quality issue 3/4 - fixing values in Name column\n",
    "<a id='issue_3'></a>"
   ]
  },
  {
   "cell_type": "code",
   "execution_count": 228,
   "metadata": {},
   "outputs": [],
   "source": [
    "#find non-name words (any words beginning with a lowercase letter)\n",
    "words = []\n",
    "for name in twitter_enhanced_clean['name']:\n",
    "    if name[0].islower() and name not in words:\n",
    "        words.append(name)"
   ]
  },
  {
   "cell_type": "code",
   "execution_count": 229,
   "metadata": {},
   "outputs": [
    {
     "name": "stdout",
     "output_type": "stream",
     "text": [
      "['such', 'a', 'quite', 'not', 'one', 'incredibly', 'very', 'my', 'his', 'an', 'actually', 'just', 'getting', 'mad', 'this', 'unacceptable', 'all', 'old', 'infuriating', 'the', 'by', 'officially', 'life', 'light', 'space']\n"
     ]
    }
   ],
   "source": [
    "print(words)"
   ]
  },
  {
   "cell_type": "code",
   "execution_count": 230,
   "metadata": {
    "collapsed": true
   },
   "outputs": [],
   "source": [
    "#replace occurences with Nan\n",
    "twitter_enhanced_clean.name.replace(words, np.nan, inplace = True)"
   ]
  },
  {
   "cell_type": "code",
   "execution_count": 231,
   "metadata": {
    "collapsed": true
   },
   "outputs": [],
   "source": [
    "#replace None value with Nan\n",
    "twitter_enhanced_clean.name.replace('None', np.nan, inplace = True)"
   ]
  },
  {
   "cell_type": "code",
   "execution_count": 232,
   "metadata": {},
   "outputs": [
    {
     "data": {
      "text/plain": [
       "Charlie     11\n",
       "Lucy        11\n",
       "Oliver      10\n",
       "Cooper      10\n",
       "Tucker       9\n",
       "Penny        9\n",
       "Winston      8\n",
       "Sadie        8\n",
       "Lola         8\n",
       "Toby         7\n",
       "Daisy        7\n",
       "Stanley      6\n",
       "Bo           6\n",
       "Bailey       6\n",
       "Bella        6\n",
       "Jax          6\n",
       "Oscar        6\n",
       "Koda         6\n",
       "Rusty        5\n",
       "Bentley      5\n",
       "Louis        5\n",
       "Scout        5\n",
       "Dave         5\n",
       "Leo          5\n",
       "Chester      5\n",
       "Milo         5\n",
       "Buddy        5\n",
       "Boomer       4\n",
       "Finn         4\n",
       "Derek        4\n",
       "            ..\n",
       "Jareld       1\n",
       "Jamesy       1\n",
       "Kial         1\n",
       "Rilo         1\n",
       "Grizz        1\n",
       "Dietrich     1\n",
       "Geno         1\n",
       "Chef         1\n",
       "Meera        1\n",
       "Akumi        1\n",
       "Iroh         1\n",
       "Jimbo        1\n",
       "Bronte       1\n",
       "Herschel     1\n",
       "Shelby       1\n",
       "Brooks       1\n",
       "Lucky        1\n",
       "Emmie        1\n",
       "Rontu        1\n",
       "Odin         1\n",
       "Bubba        1\n",
       "Dylan        1\n",
       "Dawn         1\n",
       "Mabel        1\n",
       "Huxley       1\n",
       "Stefan       1\n",
       "Cupid        1\n",
       "Charl        1\n",
       "Darrel       1\n",
       "Kevon        1\n",
       "Name: name, Length: 929, dtype: int64"
      ]
     },
     "execution_count": 232,
     "metadata": {},
     "output_type": "execute_result"
    }
   ],
   "source": [
    "twitter_enhanced_clean.name.value_counts()"
   ]
  },
  {
   "cell_type": "code",
   "execution_count": 233,
   "metadata": {},
   "outputs": [
    {
     "name": "stdout",
     "output_type": "stream",
     "text": [
      "<class 'pandas.core.frame.DataFrame'>\n",
      "RangeIndex: 2097 entries, 0 to 2096\n",
      "Data columns (total 8 columns):\n",
      "tweet_id              2097 non-null int64\n",
      "timestamp             2097 non-null object\n",
      "source                2097 non-null object\n",
      "text                  2097 non-null object\n",
      "rating_numerator      2097 non-null int64\n",
      "rating_denominator    2097 non-null int64\n",
      "name                  1390 non-null object\n",
      "stage                 370 non-null object\n",
      "dtypes: int64(3), object(5)\n",
      "memory usage: 131.1+ KB\n"
     ]
    }
   ],
   "source": [
    "twitter_enhanced_clean.info()"
   ]
  },
  {
   "cell_type": "markdown",
   "metadata": {
    "collapsed": true
   },
   "source": [
    "### Quality issue 5 - collapsing image_prediction columns \n",
    "<a id='issue_5'></a>\n",
    ">We will take the highest confidence value and its image prediction."
   ]
  },
  {
   "cell_type": "code",
   "execution_count": 234,
   "metadata": {},
   "outputs": [],
   "source": [
    "#make copy of image_predictions\n",
    "image_predictions_clean = image_predictions.copy()\n",
    "\n",
    "predictions = []\n",
    "confidence = []\n",
    "is_dog = []\n",
    "\n",
    "dog = False\n",
    "conf = 0.0\n",
    "prediction = \"\"\n",
    "tolerance = 0.000000001\n",
    "\n",
    "for index, row in image_predictions_clean.iterrows():\n",
    "    #set first prediction\n",
    "    conf = row.p1_conf\n",
    "    prediction = row.p1\n",
    "    dog = row.p1_dog\n",
    "    #compare 1 to 2\n",
    "    if(row.p2_conf - conf > tolerance):\n",
    "        conf = row.p2_conf\n",
    "        prediction = row.p2\n",
    "        dog = row.p2_dog\n",
    "        #compare 2 to 3\n",
    "        if(row.p3_conf - conf > tolerance):\n",
    "            conf = row.p3_conf\n",
    "            prediction = row.p3\n",
    "            dog = row.p3_dog\n",
    "    #compare 1 to 3\n",
    "    if(row.p3_conf - conf > tolerance):\n",
    "        conf = row.p3_conf\n",
    "        prediction = row.p3  \n",
    "        dog = row.p3_dog\n",
    "        #compare 3 to 2\n",
    "        if(row.p2_conf - conf > tolerance):\n",
    "            conf = row.p2_conf\n",
    "            prediction = row.p2\n",
    "            dog = row.p2_dog\n",
    "            \n",
    "    predictions.append(prediction)\n",
    "    confidence.append(conf)\n",
    "    is_dog.append(dog)\n",
    "    \n",
    "#assign lists as frame columns\n",
    "image_predictions_clean['confidence'] = confidence\n",
    "image_predictions_clean['predictions'] = predictions\n",
    "image_predictions_clean['is_dog'] = is_dog"
   ]
  },
  {
   "cell_type": "code",
   "execution_count": 235,
   "metadata": {},
   "outputs": [
    {
     "name": "stdout",
     "output_type": "stream",
     "text": [
      "<class 'pandas.core.frame.DataFrame'>\n",
      "RangeIndex: 2075 entries, 0 to 2074\n",
      "Data columns (total 15 columns):\n",
      "tweet_id       2075 non-null int64\n",
      "jpg_url        2075 non-null object\n",
      "img_num        2075 non-null int64\n",
      "p1             2075 non-null object\n",
      "p1_conf        2075 non-null float64\n",
      "p1_dog         2075 non-null bool\n",
      "p2             2075 non-null object\n",
      "p2_conf        2075 non-null float64\n",
      "p2_dog         2075 non-null bool\n",
      "p3             2075 non-null object\n",
      "p3_conf        2075 non-null float64\n",
      "p3_dog         2075 non-null bool\n",
      "confidence     2075 non-null float64\n",
      "predictions    2075 non-null object\n",
      "is_dog         2075 non-null bool\n",
      "dtypes: bool(4), float64(4), int64(2), object(5)\n",
      "memory usage: 186.5+ KB\n"
     ]
    }
   ],
   "source": [
    "#test\n",
    "image_predictions_clean.info()"
   ]
  },
  {
   "cell_type": "code",
   "execution_count": 236,
   "metadata": {},
   "outputs": [
    {
     "data": {
      "text/plain": [
       "True     1532\n",
       "False     543\n",
       "Name: is_dog, dtype: int64"
      ]
     },
     "execution_count": 236,
     "metadata": {},
     "output_type": "execute_result"
    }
   ],
   "source": [
    "image_predictions_clean.is_dog.value_counts()"
   ]
  },
  {
   "cell_type": "markdown",
   "metadata": {},
   "source": [
    "### Quality issue 6 - dropping extra dog rows from image_predictions \n",
    "<a id='issue_6'></a>"
   ]
  },
  {
   "cell_type": "code",
   "execution_count": 237,
   "metadata": {},
   "outputs": [
    {
     "name": "stdout",
     "output_type": "stream",
     "text": [
      "<class 'pandas.core.frame.DataFrame'>\n",
      "RangeIndex: 2075 entries, 0 to 2074\n",
      "Data columns (total 5 columns):\n",
      "tweet_id       2075 non-null int64\n",
      "jpg_url        2075 non-null object\n",
      "confidence     2075 non-null float64\n",
      "predictions    2075 non-null object\n",
      "is_dog         2075 non-null bool\n",
      "dtypes: bool(1), float64(1), int64(1), object(2)\n",
      "memory usage: 66.9+ KB\n"
     ]
    }
   ],
   "source": [
    "#clean and test\n",
    "#drop unrequired columns \n",
    "columns = ['p1','p1_conf','p1_dog','p2_dog','p2','p2_conf','p2_dog','p3','p3_conf','p3_dog', 'img_num']\n",
    "image_predictions_clean.drop(columns, axis=1, inplace=True)\n",
    "image_predictions_clean.info()"
   ]
  },
  {
   "cell_type": "markdown",
   "metadata": {},
   "source": [
    "### Tidiness issue 2 - Merging Dataframes\n",
    "<a id='issue_10'></a>"
   ]
  },
  {
   "cell_type": "code",
   "execution_count": 248,
   "metadata": {},
   "outputs": [
    {
     "name": "stdout",
     "output_type": "stream",
     "text": [
      "<class 'pandas.core.frame.DataFrame'>\n",
      "Int64Index: 2090 entries, 0 to 2089\n",
      "Data columns (total 11 columns):\n",
      "tweet_id              2090 non-null int64\n",
      "timestamp             2090 non-null object\n",
      "source                2090 non-null object\n",
      "text                  2090 non-null object\n",
      "rating_numerator      2090 non-null int64\n",
      "rating_denominator    2090 non-null int64\n",
      "name                  1383 non-null object\n",
      "stage                 368 non-null object\n",
      "creation_date         2090 non-null datetime64[ns]\n",
      "favourites            2090 non-null int64\n",
      "retweets              2090 non-null int64\n",
      "dtypes: datetime64[ns](1), int64(5), object(5)\n",
      "memory usage: 195.9+ KB\n"
     ]
    }
   ],
   "source": [
    "#code and test\n",
    "twitter = twitter_enhanced_clean.merge(tweets, on='tweet_id')\n",
    "twitter.info()"
   ]
  },
  {
   "cell_type": "code",
   "execution_count": 249,
   "metadata": {},
   "outputs": [
    {
     "data": {
      "text/html": [
       "<div>\n",
       "<style scoped>\n",
       "    .dataframe tbody tr th:only-of-type {\n",
       "        vertical-align: middle;\n",
       "    }\n",
       "\n",
       "    .dataframe tbody tr th {\n",
       "        vertical-align: top;\n",
       "    }\n",
       "\n",
       "    .dataframe thead th {\n",
       "        text-align: right;\n",
       "    }\n",
       "</style>\n",
       "<table border=\"1\" class=\"dataframe\">\n",
       "  <thead>\n",
       "    <tr style=\"text-align: right;\">\n",
       "      <th></th>\n",
       "      <th>tweet_id</th>\n",
       "      <th>timestamp</th>\n",
       "      <th>source</th>\n",
       "      <th>text</th>\n",
       "      <th>rating_numerator</th>\n",
       "      <th>rating_denominator</th>\n",
       "      <th>name</th>\n",
       "      <th>stage</th>\n",
       "      <th>favourites</th>\n",
       "      <th>retweets</th>\n",
       "    </tr>\n",
       "  </thead>\n",
       "  <tbody>\n",
       "    <tr>\n",
       "      <th>0</th>\n",
       "      <td>892420643555336193</td>\n",
       "      <td>2017-08-01 16:23:56 +0000</td>\n",
       "      <td>&lt;a href=\"http://twitter.com/download/iphone\" r...</td>\n",
       "      <td>This is Phineas. He's a mystical boy. Only eve...</td>\n",
       "      <td>13</td>\n",
       "      <td>10</td>\n",
       "      <td>Phineas</td>\n",
       "      <td>NaN</td>\n",
       "      <td>36398</td>\n",
       "      <td>7741</td>\n",
       "    </tr>\n",
       "    <tr>\n",
       "      <th>1</th>\n",
       "      <td>892177421306343426</td>\n",
       "      <td>2017-08-01 00:17:27 +0000</td>\n",
       "      <td>&lt;a href=\"http://twitter.com/download/iphone\" r...</td>\n",
       "      <td>This is Tilly. She's just checking pup on you....</td>\n",
       "      <td>13</td>\n",
       "      <td>10</td>\n",
       "      <td>Tilly</td>\n",
       "      <td>NaN</td>\n",
       "      <td>31348</td>\n",
       "      <td>5735</td>\n",
       "    </tr>\n",
       "    <tr>\n",
       "      <th>2</th>\n",
       "      <td>891815181378084864</td>\n",
       "      <td>2017-07-31 00:18:03 +0000</td>\n",
       "      <td>&lt;a href=\"http://twitter.com/download/iphone\" r...</td>\n",
       "      <td>This is Archie. He is a rare Norwegian Pouncin...</td>\n",
       "      <td>12</td>\n",
       "      <td>10</td>\n",
       "      <td>Archie</td>\n",
       "      <td>NaN</td>\n",
       "      <td>23625</td>\n",
       "      <td>3795</td>\n",
       "    </tr>\n",
       "    <tr>\n",
       "      <th>3</th>\n",
       "      <td>891689557279858688</td>\n",
       "      <td>2017-07-30 15:58:51 +0000</td>\n",
       "      <td>&lt;a href=\"http://twitter.com/download/iphone\" r...</td>\n",
       "      <td>This is Darla. She commenced a snooze mid meal...</td>\n",
       "      <td>13</td>\n",
       "      <td>10</td>\n",
       "      <td>Darla</td>\n",
       "      <td>NaN</td>\n",
       "      <td>39685</td>\n",
       "      <td>7900</td>\n",
       "    </tr>\n",
       "    <tr>\n",
       "      <th>4</th>\n",
       "      <td>891327558926688256</td>\n",
       "      <td>2017-07-29 16:00:24 +0000</td>\n",
       "      <td>&lt;a href=\"http://twitter.com/download/iphone\" r...</td>\n",
       "      <td>This is Franklin. He would like you to stop ca...</td>\n",
       "      <td>12</td>\n",
       "      <td>10</td>\n",
       "      <td>Franklin</td>\n",
       "      <td>NaN</td>\n",
       "      <td>37900</td>\n",
       "      <td>8530</td>\n",
       "    </tr>\n",
       "  </tbody>\n",
       "</table>\n",
       "</div>"
      ],
      "text/plain": [
       "             tweet_id                  timestamp  \\\n",
       "0  892420643555336193  2017-08-01 16:23:56 +0000   \n",
       "1  892177421306343426  2017-08-01 00:17:27 +0000   \n",
       "2  891815181378084864  2017-07-31 00:18:03 +0000   \n",
       "3  891689557279858688  2017-07-30 15:58:51 +0000   \n",
       "4  891327558926688256  2017-07-29 16:00:24 +0000   \n",
       "\n",
       "                                              source  \\\n",
       "0  <a href=\"http://twitter.com/download/iphone\" r...   \n",
       "1  <a href=\"http://twitter.com/download/iphone\" r...   \n",
       "2  <a href=\"http://twitter.com/download/iphone\" r...   \n",
       "3  <a href=\"http://twitter.com/download/iphone\" r...   \n",
       "4  <a href=\"http://twitter.com/download/iphone\" r...   \n",
       "\n",
       "                                                text  rating_numerator  \\\n",
       "0  This is Phineas. He's a mystical boy. Only eve...                13   \n",
       "1  This is Tilly. She's just checking pup on you....                13   \n",
       "2  This is Archie. He is a rare Norwegian Pouncin...                12   \n",
       "3  This is Darla. She commenced a snooze mid meal...                13   \n",
       "4  This is Franklin. He would like you to stop ca...                12   \n",
       "\n",
       "   rating_denominator      name stage  favourites  retweets  \n",
       "0                  10   Phineas   NaN       36398      7741  \n",
       "1                  10     Tilly   NaN       31348      5735  \n",
       "2                  10    Archie   NaN       23625      3795  \n",
       "3                  10     Darla   NaN       39685      7900  \n",
       "4                  10  Franklin   NaN       37900      8530  "
      ]
     },
     "execution_count": 249,
     "metadata": {},
     "output_type": "execute_result"
    }
   ],
   "source": [
    "#drop duplicate date column and test\n",
    "twitter.drop(columns=['creation_date'], axis=1, inplace=True)\n",
    "twitter.head()"
   ]
  },
  {
   "cell_type": "code",
   "execution_count": 250,
   "metadata": {},
   "outputs": [
    {
     "name": "stdout",
     "output_type": "stream",
     "text": [
      "<class 'pandas.core.frame.DataFrame'>\n",
      "Int64Index: 1964 entries, 0 to 1963\n",
      "Data columns (total 14 columns):\n",
      "tweet_id              1964 non-null int64\n",
      "timestamp             1964 non-null object\n",
      "source                1964 non-null object\n",
      "text                  1964 non-null object\n",
      "rating_numerator      1964 non-null int64\n",
      "rating_denominator    1964 non-null int64\n",
      "name                  1342 non-null object\n",
      "stage                 334 non-null object\n",
      "favourites            1964 non-null int64\n",
      "retweets              1964 non-null int64\n",
      "jpg_url               1964 non-null object\n",
      "confidence            1964 non-null float64\n",
      "predictions           1964 non-null object\n",
      "is_dog                1964 non-null bool\n",
      "dtypes: bool(1), float64(1), int64(5), object(7)\n",
      "memory usage: 216.7+ KB\n"
     ]
    }
   ],
   "source": [
    "#code and test\n",
    "twitter = twitter.merge(image_predictions_clean, on='tweet_id')\n",
    "twitter.info()"
   ]
  },
  {
   "cell_type": "markdown",
   "metadata": {},
   "source": [
    "It appears not all tweet_ids in the twitter datatframe had a corresponding tweet_id in the image_predictions dataset\n",
    "a number of rows were dropped, this could be due to image predictions having the retweets and replies that were removed from the twitter dataset"
   ]
  },
  {
   "cell_type": "markdown",
   "metadata": {},
   "source": [
    "### Quality issue 7 - changing columns to correct datatypes \n",
    "<a id='issue_7'></a>"
   ]
  },
  {
   "cell_type": "code",
   "execution_count": 251,
   "metadata": {
    "collapsed": true
   },
   "outputs": [],
   "source": [
    "#code\n",
    "twitter['timestamp'] = pd.to_datetime(twitter['timestamp'])"
   ]
  },
  {
   "cell_type": "code",
   "execution_count": 252,
   "metadata": {
    "collapsed": true
   },
   "outputs": [],
   "source": [
    "twitter['stage'] = twitter['stage'].astype('category')"
   ]
  },
  {
   "cell_type": "code",
   "execution_count": 253,
   "metadata": {
    "collapsed": true
   },
   "outputs": [],
   "source": [
    "twitter['tweet_id'] = twitter['tweet_id'].astype('str')"
   ]
  },
  {
   "cell_type": "code",
   "execution_count": 285,
   "metadata": {
    "collapsed": true
   },
   "outputs": [],
   "source": [
    "twitter['predictions'] = twitter['predictions'].astype('category')"
   ]
  },
  {
   "cell_type": "code",
   "execution_count": 286,
   "metadata": {},
   "outputs": [
    {
     "name": "stdout",
     "output_type": "stream",
     "text": [
      "<class 'pandas.core.frame.DataFrame'>\n",
      "Int64Index: 1964 entries, 0 to 1963\n",
      "Data columns (total 14 columns):\n",
      "tweet_id              1964 non-null object\n",
      "timestamp             1964 non-null datetime64[ns]\n",
      "source                1964 non-null object\n",
      "text                  1964 non-null object\n",
      "rating_numerator      1964 non-null int64\n",
      "rating_denominator    1964 non-null int64\n",
      "name                  1342 non-null object\n",
      "stage                 334 non-null category\n",
      "favourites            1964 non-null int64\n",
      "retweets              1964 non-null int64\n",
      "jpg_url               1964 non-null object\n",
      "confidence            1964 non-null float64\n",
      "predictions           1964 non-null category\n",
      "is_dog                1964 non-null bool\n",
      "dtypes: bool(1), category(2), datetime64[ns](1), float64(1), int64(4), object(5)\n",
      "memory usage: 204.9+ KB\n"
     ]
    }
   ],
   "source": [
    "#test\n",
    "twitter.info()"
   ]
  },
  {
   "cell_type": "markdown",
   "metadata": {},
   "source": [
    "### Quality issue 8 - removing html from source column values\n",
    "<a id='issue_8'></a>"
   ]
  },
  {
   "cell_type": "code",
   "execution_count": 255,
   "metadata": {},
   "outputs": [],
   "source": [
    "#code\n",
    "twitter.source = twitter.source.apply(lambda x: re.findall(r'>(.*)<', x)[0])"
   ]
  },
  {
   "cell_type": "code",
   "execution_count": 256,
   "metadata": {},
   "outputs": [
    {
     "data": {
      "text/plain": [
       "Twitter for iPhone    1926\n",
       "Twitter Web Client      28\n",
       "TweetDeck               10\n",
       "Name: source, dtype: int64"
      ]
     },
     "execution_count": 256,
     "metadata": {},
     "output_type": "execute_result"
    }
   ],
   "source": [
    "#test\n",
    "twitter.source.value_counts()"
   ]
  },
  {
   "cell_type": "markdown",
   "metadata": {},
   "source": [
    "### Storing cleaned datasets\n",
    "<a id='storage'></a>"
   ]
  },
  {
   "cell_type": "code",
   "execution_count": 353,
   "metadata": {
    "collapsed": true
   },
   "outputs": [],
   "source": [
    "twitter.to_csv('twitter_archive_master.csv')"
   ]
  },
  {
   "cell_type": "markdown",
   "metadata": {},
   "source": [
    "## Visualisation and Analysis\n",
    "<a id='visualisation'></a>"
   ]
  },
  {
   "cell_type": "code",
   "execution_count": 342,
   "metadata": {
    "collapsed": true
   },
   "outputs": [],
   "source": [
    "df = pd.read_csv('twitter_archive_master.csv')\n",
    "df.timestamp = pd.to_datetime(df.timestamp)"
   ]
  },
  {
   "cell_type": "code",
   "execution_count": 343,
   "metadata": {
    "collapsed": true
   },
   "outputs": [],
   "source": [
    "df.set_index(pd.DatetimeIndex(df.timestamp), inplace=True)"
   ]
  },
  {
   "cell_type": "code",
   "execution_count": 344,
   "metadata": {
    "collapsed": true
   },
   "outputs": [],
   "source": [
    "dogs = df[df.stage.isnull() == False]"
   ]
  },
  {
   "cell_type": "code",
   "execution_count": 345,
   "metadata": {},
   "outputs": [
    {
     "data": {
      "image/png": "[encoded data removed]",
      "text/plain": [
       "<Figure size 1080x720 with 1 Axes>"
      ]
     },
     "metadata": {},
     "output_type": "display_data"
    }
   ],
   "source": [
    "plt.subplots(figsize=(15,10))\n",
    "sns.scatterplot(x=df.favourites, y=df.retweets, data=df);\n",
    "plt.title('Relationship between Favourites and Retweets');\n",
    "plt.savefig('scatter.png')"
   ]
  },
  {
   "cell_type": "code",
   "execution_count": 346,
   "metadata": {},
   "outputs": [
    {
     "data": {
      "text/plain": [
       "0.9291679968310438"
      ]
     },
     "execution_count": 346,
     "metadata": {},
     "output_type": "execute_result"
    }
   ],
   "source": [
    "#find the correlation coeficient\n",
    "np.corrcoef(df.retweets, df.favourites)[1][0]"
   ]
  },
  {
   "cell_type": "markdown",
   "metadata": {},
   "source": [
    "There appears to be a strong positive correlation between favourites and retweets which is unsurprising."
   ]
  },
  {
   "cell_type": "code",
   "execution_count": 347,
   "metadata": {},
   "outputs": [
    {
     "data": {
      "image/png": "[encoded data removed]",
      "text/plain": [
       "<Figure size 1080x720 with 1 Axes>"
      ]
     },
     "metadata": {},
     "output_type": "display_data"
    }
   ],
   "source": [
    "plt.subplots(figsize=(15,10))\n",
    "sns.boxplot(x=dogs.stage, y=dogs.retweets, data=dogs);\n",
    "plt.title('Number of retweets by dog stage');\n",
    "plt.savefig('retweets by stage candle.png')"
   ]
  },
  {
   "cell_type": "code",
   "execution_count": 348,
   "metadata": {},
   "outputs": [
    {
     "data": {
      "image/png": "[encoded data removed]",
      "text/plain": [
       "<Figure size 1080x720 with 1 Axes>"
      ]
     },
     "metadata": {},
     "output_type": "display_data"
    }
   ],
   "source": [
    "plt.subplots(figsize=(15,10))\n",
    "sns.boxplot(x=dogs.stage, y=dogs.favourites, data=dogs);\n",
    "plt.title('Number of retweets by dog stage');\n",
    "plt.savefig('favourites by stage candle.png')"
   ]
  },
  {
   "cell_type": "markdown",
   "metadata": {},
   "source": [
    "It appears the mentions of dog stages is starting to thin out over time. However from the data available, if you wanted to increase the number of favourites and or retweets by mentioning dog stage. A photo and mention of Puppo seems to the best way of ensuring even at the lowest values of retweets and favourites that it will be a popular tweet relative to other dog stages"
   ]
  },
  {
   "cell_type": "code",
   "execution_count": 349,
   "metadata": {
    "collapsed": true
   },
   "outputs": [],
   "source": [
    "pupper = df[df.stage == 'pupper']\n",
    "puppo = df[df.stage == 'puppo']\n",
    "doggo = df[df.stage == 'doggo']\n",
    "floofer = df[df.stage == 'floofer']\n",
    "multiple = df[df.stage == 'multiple']"
   ]
  },
  {
   "cell_type": "code",
   "execution_count": 350,
   "metadata": {},
   "outputs": [
    {
     "data": {
      "image/png": "[encoded data removed]",
      "text/plain": [
       "<Figure size 1080x720 with 1 Axes>"
      ]
     },
     "metadata": {},
     "output_type": "display_data"
    }
   ],
   "source": [
    "plt.subplots(figsize=(15,10))\n",
    "ax = sns.scatterplot(x=pupper.favourites, y=pupper.retweets, data=pupper, label='Pupper');\n",
    "ax = sns.scatterplot(x=puppo.favourites, y=puppo.retweets, data=puppo, label='Puppo');\n",
    "ax = sns.scatterplot(x=doggo.favourites, y=doggo.retweets, data=doggo, label='Doggo');\n",
    "ax = sns.scatterplot(x=floofer.favourites, y=floofer.retweets, data=floofer, label='Floofer');\n",
    "ax = sns.scatterplot(x=multiple.favourites, y=multiple.retweets, data=multiple, label='Multiple');\n",
    "ax.legend();\n",
    "plt.title('Relationship between retweets and favourites by dog stage');\n",
    "plt.savefig('retweetsfavourites by stage.png')"
   ]
  },
  {
   "cell_type": "markdown",
   "metadata": {},
   "source": [
    "Its significantly harder to compare dog stages against each other due to the lack of data for floofers and puppos. Puppers seem to get slightly higher retweets compared to the proportion of favourites the other stages get. Puppers seem to have significantly more outliers. The higher number of direct mentions of Puppers in tweets seems to indicate that people find adolescent dogs the cutest. This could also just be a passing memeification trend of putting dog stages in tweets, with emphasis on Puppers particularly. Has the mention of dog stages increased on decreased over time?"
   ]
  },
  {
   "cell_type": "code",
   "execution_count": 335,
   "metadata": {},
   "outputs": [
    {
     "data": {
      "image/png": "[encoded data removed]",
      "text/plain": [
       "<Figure size 1080x720 with 1 Axes>"
      ]
     },
     "metadata": {},
     "output_type": "display_data"
    }
   ],
   "source": [
    "plt.subplots(figsize=(15,10))\n",
    "sns.scatterplot(x=dogs.timestamp, y=dogs.stage, data=dogs);\n",
    "plt.title('Tweet mentions of dog stage over time');\n",
    "plt.savefig('stage mentions by date.png')"
   ]
  },
  {
   "cell_type": "code",
   "execution_count": 316,
   "metadata": {},
   "outputs": [
    {
     "data": {
      "text/plain": [
       "golden_retriever                  78\n",
       "Pembroke                          47\n",
       "Labrador_retriever                38\n",
       "pug                               34\n",
       "Chihuahua                         25\n",
       "Pomeranian                        22\n",
       "Samoyed                           21\n",
       "chow                              16\n",
       "French_bulldog                    14\n",
       "toy_poodle                        13\n",
       "malamute                          10\n",
       "German_shepherd                    9\n",
       "Maltese_dog                        8\n",
       "Shetland_sheepdog                  8\n",
       "Bernese_mountain_dog               7\n",
       "Chesapeake_Bay_retriever           7\n",
       "Brittany_spaniel                   6\n",
       "Blenheim_spaniel                   6\n",
       "miniature_pinscher                 6\n",
       "Doberman                           5\n",
       "American_Staffordshire_terrier     5\n",
       "Shih-Tzu                           5\n",
       "cocker_spaniel                     5\n",
       "basset                             5\n",
       "Great_Pyrenees                     5\n",
       "beagle                             5\n",
       "Rottweiler                         5\n",
       "vizsla                             5\n",
       "Pekinese                           5\n",
       "dalmatian                          5\n",
       "                                  ..\n",
       "pedestal                           0\n",
       "picket_fence                       0\n",
       "piggy_bank                         0\n",
       "pillow                             0\n",
       "ping-pong_ball                     0\n",
       "pitcher                            0\n",
       "platypus                           0\n",
       "ocarina                            0\n",
       "muzzle                             0\n",
       "llama                              0\n",
       "meerkat                            0\n",
       "long-horned_beetle                 0\n",
       "lorikeet                           0\n",
       "loupe                              0\n",
       "lynx                               0\n",
       "mailbox                            0\n",
       "maillot                            0\n",
       "marmot                             0\n",
       "maze                               0\n",
       "microphone                         0\n",
       "mud_turtle                         0\n",
       "microwave                          0\n",
       "military_uniform                   0\n",
       "miniature_poodle                   0\n",
       "minibus                            0\n",
       "minivan                            0\n",
       "mortarboard                        0\n",
       "motor_scooter                      0\n",
       "mousetrap                          0\n",
       "grey_fox                           0\n",
       "Name: predictions, Length: 373, dtype: int64"
      ]
     },
     "execution_count": 316,
     "metadata": {},
     "output_type": "execute_result"
    }
   ],
   "source": [
    "twitter[(twitter.is_dog == True) & (twitter.confidence > 0.75)].sort_values(by='favourites', ascending=False).sort_values(by='favourites', ascending=False).value_counts()"
   ]
  },
  {
   "cell_type": "code",
   "execution_count": 351,
   "metadata": {},
   "outputs": [
    {
     "data": {
      "text/plain": [
       "pupper      223\n",
       "doggo        67\n",
       "puppo        26\n",
       "multiple     11\n",
       "floofer       7\n",
       "Name: stage, dtype: int64"
      ]
     },
     "execution_count": 351,
     "metadata": {},
     "output_type": "execute_result"
    }
   ],
   "source": [
    "twitter['stage'].value_counts()"
   ]
  },
  {
   "cell_type": "code",
   "execution_count": 352,
   "metadata": {},
   "outputs": [
    {
     "data": {
      "image/png": "[encoded data removed]",
      "text/plain": [
       "<Figure size 1080x720 with 1 Axes>"
      ]
     },
     "metadata": {},
     "output_type": "display_data"
    }
   ],
   "source": [
    "#top 15 dog breeds (75% confidence) by tweet favourites \n",
    "dogs = twitter[(twitter.is_dog == True) & (twitter.confidence > 0.75)].sort_values(by='retweets', ascending=False).groupby(by='predictions')['retweets'].sum().sort_values(ascending=False)\n",
    "plt.subplots(figsize=(15,10))\n",
    "dogs[:15].plot.barh();\n",
    "plt.title('Top 15 dog breeds by retweets');\n",
    "plt.ylabel('Dog Breed');\n",
    "plt.xlabel('Number of Retweets');\n",
    "plt.savefig('dog breeds barchart.png')"
   ]
  },
  {
   "cell_type": "markdown",
   "metadata": {},
   "source": [
    "This is an relatively unsurprising result, the top 3 dog breeds by favourites are Golden Retrievers, Pembrokes and Labrador Retrievers. These also happen to be the dog breeds whose images are in the highest number of tweets. "
   ]
  },
  {
   "cell_type": "markdown",
   "metadata": {},
   "source": [
    "<a id='references'></a>\n",
    "# References \n",
    "\n",
    "https://stackoverflow.com/questions/13851535/delete-rows-from-a-pandas-dataframe-based-on-a-conditional-expression-involving\n",
    "https://thispointer.com/pandas-apply-apply-a-function-to-each-row-column-in-dataframe/\n",
    "https://docs.python.org/3/howto/regex.html\n",
    "https://stackoverflow.com/questions/17255737/importing-variables-from-another-file\n",
    "http://docs.tweepy.org/en/latest/api.html#status-methods\n",
    "https://thispointer.com/pandas-find-duplicate-rows-in-a-dataframe-based-on-all-or-selected-columns-using-dataframe-duplicated-in-python/\n",
    "https://stackoverflow.com/questions/27900451/convert-tweepy-status-object-into-json\n",
    "https://docs.python.org/2/library/datetime.html#strftime-and-strptime-behavior\n",
    "https://stackoverflow.com/questions/6602111/how-to-search-for-a-capital-letter-within-a-string-and-return-the-list-of-words\n",
    "https://sebastianraschka.com/Articles/2014_ipython_internal_links.html"
   ]
  }
 ],
 "metadata": {
  "kernelspec": {
   "display_name": "Python 3",
   "language": "python",
   "name": "python3"
  },
  "language_info": {
   "codemirror_mode": {
    "name": "ipython",
    "version": 3
   },
   "file_extension": ".py",
   "mimetype": "text/x-python",
   "name": "python",
   "nbconvert_exporter": "python",
   "pygments_lexer": "ipython3",
   "version": "3.6.10"
  }
 },
 "nbformat": 4,
 "nbformat_minor": 2
}
